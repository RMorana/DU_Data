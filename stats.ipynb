{
 "cells": [
  {
   "cell_type": "code",
   "execution_count": 75,
   "metadata": {},
   "outputs": [],
   "source": [
    "# Statistiques\n",
    "\n",
    "# importer les modules nécessaires\n",
    "import pandas as pd\n",
    "import matplotlib.pyplot as plt\n",
    "import seaborn as sns\n",
    "from distinctipy import distinctipy\n",
    "from matplotlib.font_manager import FontProperties\n",
    "from matplotlib import rc\n",
    "import numpy as np\n",
    "import plotly.graph_objects as go\n",
    "from plotly.subplots import make_subplots\n",
    "import ipywidgets as widgets\n",
    "from IPython.display import clear_output, display\n",
    "\n",
    "# Modifier les paramètres d'affichage de la sortie des commandes dans Jupyter\n",
    "pd.set_option('display.max_rows', 100)\n",
    "pd.set_option('display.max_columns', 50)\n",
    "pd.set_option('display.width', 100)\n",
    "\n",
    "# import de la police Garamond\n",
    "garamond_font = FontProperties(fname=\"C:/Windows/Fonts/GARA.TTF\",size=14)\n",
    "timesnewroman_font = FontProperties(fname=\"C:/Windows/Fonts/TIMES.TTF\",size=14)"
   ]
  },
  {
   "attachments": {},
   "cell_type": "markdown",
   "metadata": {},
   "source": [
    "Import des fichiers questionnaires et logs, et analyse"
   ]
  },
  {
   "cell_type": "code",
   "execution_count": 76,
   "metadata": {},
   "outputs": [],
   "source": [
    "# lire le fichier csv dans un dataframe et afficher les colonnes\n",
    "df_effec1 = pd.read_csv(\"data/stats/usages.effec1.csv\",header=0,sep=\",\", low_memory=False)\n",
    "df_effec2 = pd.read_csv(\"data/stats/usages.effec2.csv\",header=0,sep=\",\", low_memory=False)\n",
    "df_effec3 = pd.read_csv(\"data/stats/usages.effec3.csv\",header=0,sep=\",\", low_memory=False)\n",
    "\n",
    "df_quest1 = pd.read_csv(\"data/stats/effec1.quest.compil.csv\",header=0,sep=\",\", low_memory=False,encoding = \"ISO-8859-1\")\n",
    "df_quest2 = pd.read_csv(\"data/stats/effec2.quest.compil.csv\",header=0,sep=\",\", low_memory=False,encoding = \"ISO-8859-1\")\n",
    "df_quest3 = pd.read_csv(\"data/stats/effec3.quest.compil.csv\",header=0,sep=\",\", low_memory=False,encoding = \"ISO-8859-1\")\n",
    "\n"
   ]
  },
  {
   "attachments": {},
   "cell_type": "markdown",
   "metadata": {},
   "source": [
    "On constate que les dataframe EFFEC ou QUEST n'ont pas le même nombre de colonnes. Il faut donc identifier les différences et ajouter dans chaques dataframes les colonnes manquantes"
   ]
  },
  {
   "cell_type": "code",
   "execution_count": 77,
   "metadata": {},
   "outputs": [
    {
     "name": "stdout",
     "output_type": "stream",
     "text": [
      "Shape de EFFEC1:  (7965, 73)\n",
      "Shape de EFFEC2:  (3798, 74)\n",
      "Shape de EFFEC3:  (3883, 76)\n",
      "dans 1 mais pas dans 2 set()\n",
      "dans 1 mais pas dans 3 set()\n",
      "dans 2 mais pas dans 1 {'Assignment.choice'}\n",
      "dans 2 mais pas dans 3 set()\n",
      "dans 3 mais pas dans 1 {'view.forum.fonc.cours', 'Post.forum.fonc.cours', 'Assignment.choice'}\n",
      "dans 3 mais pas dans 2 {'view.forum.fonc.cours', 'Post.forum.fonc.cours'}\n"
     ]
    }
   ],
   "source": [
    "# Affichage des Shape des dataframes ainsi que des colonnes manquantes\n",
    "print(\"Shape de EFFEC1: \",df_effec1.shape)\n",
    "print(\"Shape de EFFEC2: \",df_effec2.shape)\n",
    "print(\"Shape de EFFEC3: \",df_effec3.shape)\n",
    "\n",
    "# Comparaison de EFFEC1 avec les autres\n",
    "missing_colonnes_EFFEC1_EFFEC2 = set(df_effec1) - set(df_effec2)\n",
    "print(\"dans 1 mais pas dans 2\", missing_colonnes_EFFEC1_EFFEC2) #si vide pas de colonnes dans EFFEC1 absentes de EFFEC2\n",
    "missing_colonnes_EFFEC1_EFFEC3 = set(df_effec1) - set(df_effec3)\n",
    "print(\"dans 1 mais pas dans 3\", missing_colonnes_EFFEC1_EFFEC3) #si vide pas de colonnes dans EFFEC1 absentes de EFFEC3\n",
    "\n",
    "# Comparaison de EFFEC2 avec les autres\n",
    "missing_colonnes_EFFEC2_EFFEC1 = set(df_effec2) - set(df_effec1)\n",
    "print(\"dans 2 mais pas dans 1\", missing_colonnes_EFFEC2_EFFEC1) #si vide pas de colonnes dans EFFEC2 absentes de EFFEC1\n",
    "missing_colonnes_EFFEC2_EFFEC3 = set(df_effec2) - set(df_effec3)\n",
    "print(\"dans 2 mais pas dans 3\", missing_colonnes_EFFEC2_EFFEC3) #si vide pas de colonnes dans EFFEC2 absente de EFFEC3\n",
    "\n",
    "# Comparaison de EFFEC3 avec les autres\n",
    "missing_colonnes_EFFEC3_EFFEC1 = set(df_effec3) - set(df_effec1)\n",
    "print(\"dans 3 mais pas dans 1\",missing_colonnes_EFFEC3_EFFEC1) #si vide pas de colonnes dans EFFEC3 absentes de EFFEC1\n",
    "missing_colonnes_EFFEC3_EFFEC2 = set(df_effec3) - set(df_effec2)\n",
    "print(\"dans 3 mais pas dans 2\", missing_colonnes_EFFEC3_EFFEC2) #si vide pas de colonnes dans EFFEC3 absentes de EFFEC2\n"
   ]
  },
  {
   "cell_type": "code",
   "execution_count": 78,
   "metadata": {},
   "outputs": [],
   "source": [
    "# Complétion de EFFEC1 et EFFEC2\n",
    "df_effec1[[\"view.forum.fonc.cours\", \"Post.forum.fonc.cours\",\"Assignment.choice\"]]=None\n",
    "df_effec2[[\"view.forum.fonc.cours\", \"Post.forum.fonc.cours\"]]=None\n"
   ]
  },
  {
   "attachments": {},
   "cell_type": "markdown",
   "metadata": {},
   "source": [
    "Même travail d'alignement des colonnes sur les questionnaires"
   ]
  },
  {
   "cell_type": "code",
   "execution_count": 82,
   "metadata": {},
   "outputs": [
    {
     "name": "stdout",
     "output_type": "stream",
     "text": [
      "Shape de QUEST1:  (8986, 44)\n",
      "Shape de QUEST2:  (4078, 44)\n",
      "Shape de QUEST3:  (4233, 44)\n",
      "dans 1 mais pas dans 2 set()\n",
      "dans 1 mais pas dans 3 set()\n",
      "dans 2 mais pas dans 1 set()\n",
      "dans 2 mais pas dans 3 set()\n",
      "dans 3 mais pas dans 1 set()\n",
      "dans 3 mais pas dans 2 set()\n"
     ]
    }
   ],
   "source": [
    "# Affichage des Shape des dataframes ainsi que des colonnes manquantes\n",
    "print(\"Shape de QUEST1: \",df_quest1.shape)\n",
    "print(\"Shape de QUEST2: \",df_quest2.shape)\n",
    "print(\"Shape de QUEST3: \",df_quest3.shape)\n",
    "\n",
    "# Comparaison de QUEST1 avec les autres\n",
    "missing_colonnes_QUEST1_QUEST2 = set(df_quest1) - set(df_quest2)\n",
    "print(\"dans 1 mais pas dans 2\", missing_colonnes_QUEST1_QUEST2) #si vide pas de colonnes dans QUEST1 absentes de QUEST2\n",
    "missing_colonnes_QUEST1_QUEST3 = set(df_quest1) - set(df_quest3)\n",
    "print(\"dans 1 mais pas dans 3\", missing_colonnes_QUEST1_QUEST3) #si vide pas de colonnes dans QUEST1 absentes de QUEST3\n",
    "\n",
    "# Comparaison de QUEST2 avec les autres\n",
    "missing_colonnes_QUEST2_QUEST1 = set(df_quest2) - set(df_quest1)\n",
    "print(\"dans 2 mais pas dans 1\", missing_colonnes_QUEST2_QUEST1) # si vide pas de colonnes dans QUEST2 absentes de QUEST1\n",
    "missing_colonnes_QUEST2_QUEST3 = set(df_quest2) - set(df_quest3)\n",
    "print(\"dans 2 mais pas dans 3\", missing_colonnes_QUEST2_QUEST3) # si vide pas de colonnes dans QUEST2 absentes de QUEST3\n",
    "\n",
    "# Comparaison de QUEST3 avec les autres\n",
    "missing_colonnes_QUEST3_QUEST1 = set(df_quest3) - set(df_quest1)\n",
    "print(\"dans 3 mais pas dans 1\", missing_colonnes_QUEST3_QUEST1) # si vide pas de colonnes dans QUEST3 absentes de QUEST1\n",
    "missing_colonnes_QUEST3_QUEST2 = set(df_quest3) - set(df_quest2)\n",
    "print(\"dans 3 mais pas dans 2\", missing_colonnes_QUEST3_QUEST2) # si vide pas de colonnes dans QUEST3 absentes de QUEST2\n"
   ]
  },
  {
   "cell_type": "code",
   "execution_count": 83,
   "metadata": {},
   "outputs": [],
   "source": [
    "# Complétion des QUEST\n",
    "df_quest1[['Section', 'Mot', 'Current.Score', 'Proba.reco', 'EMLyon.et', 'EMLyon','Section', 'Certif.bin', 'age', 'EMLYON.et', 'EMLyon']]=None\n",
    "df_quest2[[\"encad.diffic\",'Certif.bin', 'EMLYON.et', 'age']]=None\n",
    "df_quest3[['Plat.satisf', 'encad.disp', 'Eval.diffic', 'Estimated.hours', 'diffic','Mot', 'Current.Score', 'Satisf', 'entour.inter', 'Instit.brand', 'entour', 'encad.diffic', 'How.contact', 'motiv.princ', 'Part.labo', 'Proba.reco', 'EMLyon.et', 'Peer.eval.relev']]=None\n"
   ]
  },
  {
   "attachments": {},
   "cell_type": "markdown",
   "metadata": {},
   "source": [
    "Ajout d'une colonne itération pour conserver la trace du numéro d'itération"
   ]
  },
  {
   "cell_type": "code",
   "execution_count": 89,
   "metadata": {},
   "outputs": [],
   "source": [
    "# Ajout colonne\n",
    "df_effec1[\"iteration\"]=\"effec1\"\n",
    "df_effec2[\"iteration\"]=\"effec2\"\n",
    "df_effec3[\"iteration\"]=\"effec3\"\n",
    "df_quest1[\"iteration\"]=\"quest1\"\n",
    "df_quest2[\"iteration\"]=\"quest2\"\n",
    "df_quest3[\"iteration\"]=\"quest3\"\n",
    "\n"
   ]
  },
  {
   "attachments": {},
   "cell_type": "markdown",
   "metadata": {},
   "source": [
    "Column bind des logs et questionnaires"
   ]
  },
  {
   "cell_type": "code",
   "execution_count": 103,
   "metadata": {},
   "outputs": [
    {
     "name": "stdout",
     "output_type": "stream",
     "text": [
      "(3515, 121)\n",
      "      Student_ID  Exam.score  Exam.bin  Assignment.score  Assignment.bin  Quizz.1.score  \\\n",
      "0             15         NaN         0               NaN               0            NaN   \n",
      "1             34         NaN         0               NaN               0            NaN   \n",
      "2             88         NaN         0               NaN               0            NaN   \n",
      "3             95         NaN         0               NaN               0            NaN   \n",
      "4            118       38.45         1               NaN               0           17.1   \n",
      "...          ...         ...       ...               ...             ...            ...   \n",
      "3510       69306         NaN         0               NaN               0            5.9   \n",
      "3511       69416         NaN         0               NaN               0            NaN   \n",
      "3512       69565         NaN         0               NaN               0            NaN   \n",
      "3513       69567         NaN         0               NaN               0            NaN   \n",
      "3514       69683         NaN         0               NaN               0            NaN   \n",
      "\n",
      "      Quizz.1.bin  Quizz.2.score  Quizz.2.bin  Quizz.3.score  Quizz.3.bin  Quizz.4.bin  \\\n",
      "0               0            NaN            0            NaN            0            0   \n",
      "1               0            NaN            0            NaN            0            0   \n",
      "2               0            NaN            0            NaN            0            0   \n",
      "3               0            NaN            0            NaN            0            0   \n",
      "4               1      17.666667            1      16.666667            1            1   \n",
      "...           ...            ...          ...            ...          ...          ...   \n",
      "3510            1            NaN            0            NaN            0            0   \n",
      "3511            0            NaN            0            NaN            0            0   \n",
      "3512            0            NaN            0            NaN            0            0   \n",
      "3513            0            NaN            0            NaN            0            0   \n",
      "3514            0            NaN            0            NaN            0            0   \n",
      "\n",
      "      Quizz.4.score  Quizz.5.bin  Quizz.5.score  Intro.MOOC  Prez.sem.1  S1.L1  S1.L2  S1.L3  \\\n",
      "0               NaN            0            NaN         NaN           1      1      0      0   \n",
      "1               NaN            0            NaN         NaN           0      0      0      0   \n",
      "2               NaN            0            NaN         NaN           0      1      0      0   \n",
      "3               NaN            0            NaN         NaN           1      1      0      0   \n",
      "4              20.0            1           14.0         NaN           0      0      0      0   \n",
      "...             ...          ...            ...         ...         ...    ...    ...    ...   \n",
      "3510            NaN            0            NaN         NaN           0      0      0      0   \n",
      "3511            NaN            0            NaN         NaN           0      0      0      0   \n",
      "3512            NaN            0            NaN         NaN           1      0      1      1   \n",
      "3513            NaN            0            NaN         NaN           0      0      0      0   \n",
      "3514            NaN            0            NaN         NaN           0      0      0      0   \n",
      "\n",
      "      S1.L4  S1.L5  S1.L6  Prez.sem.2  S2.L1  ...  EMLyon  Country_HDI  Country_HDI.fin   age  \\\n",
      "0         0      0      0           0      0  ...     NaN          NaN              NaN   NaN   \n",
      "1         0      0      0           0      0  ...     NaN          NaN              NaN   NaN   \n",
      "2         0      0      0           0      0  ...     NaN          NaN              NaN   NaN   \n",
      "3         0      0      0           0      0  ...     NaN          NaN              NaN   NaN   \n",
      "4         0      0      0           0      0  ...     Non            H              H&M  38.0   \n",
      "...     ...    ...    ...         ...    ...  ...     ...          ...              ...   ...   \n",
      "3510      0      0      0           0      0  ...     NaN          NaN              NaN   NaN   \n",
      "3511      0      0      0           0      0  ...     NaN          NaN              NaN   NaN   \n",
      "3512      1      1      1           0      1  ...     Non           TH               TH  42.0   \n",
      "3513      0      0      0           0      0  ...     NaN          NaN              NaN   NaN   \n",
      "3514      0      0      0           0      0  ...     NaN          NaN              NaN   NaN   \n",
      "\n",
      "       CSP.fin              Temps.dispo.fin  Plat.satisf  encad.disp  Eval.diffic  \\\n",
      "0          NaN                          NaN         None        None         None   \n",
      "1          NaN                          NaN         None        None         None   \n",
      "2          NaN                          NaN         None        None         None   \n",
      "3          NaN                          NaN         None        None         None   \n",
      "4     Employés  Entre deux et quatre heures         None        None         None   \n",
      "...        ...                          ...          ...         ...          ...   \n",
      "3510       NaN                          NaN         None        None         None   \n",
      "3511       NaN                          NaN         None        None         None   \n",
      "3512  Employés   Entre quatre et six heures         None        None         None   \n",
      "3513       NaN                          NaN         None        None         None   \n",
      "3514       NaN                          NaN         None        None         None   \n",
      "\n",
      "      Estimated.hours  diffic   Mot  Current.Score  Satisf  entour.inter  Instit.brand  entour  \\\n",
      "0                None    None  None           None    None          None          None    None   \n",
      "1                None    None  None           None    None          None          None    None   \n",
      "2                None    None  None           None    None          None          None    None   \n",
      "3                None    None  None           None    None          None          None    None   \n",
      "4                None    None  None           None    None          None          None    None   \n",
      "...               ...     ...   ...            ...     ...           ...           ...     ...   \n",
      "3510             None    None  None           None    None          None          None    None   \n",
      "3511             None    None  None           None    None          None          None    None   \n",
      "3512             None    None  None           None    None          None          None    None   \n",
      "3513             None    None  None           None    None          None          None    None   \n",
      "3514             None    None  None           None    None          None          None    None   \n",
      "\n",
      "      encad.diffic  How.contact  motiv.princ  Part.labo  Proba.reco  EMLyon.et  Peer.eval.relev  \\\n",
      "0             None         None         None       None        None       None             None   \n",
      "1             None         None         None       None        None       None             None   \n",
      "2             None         None         None       None        None       None             None   \n",
      "3             None         None         None       None        None       None             None   \n",
      "4             None         None         None       None        None       None             None   \n",
      "...            ...          ...          ...        ...         ...        ...              ...   \n",
      "3510          None         None         None       None        None       None             None   \n",
      "3511          None         None         None       None        None       None             None   \n",
      "3512          None         None         None       None        None       None             None   \n",
      "3513          None         None         None       None        None       None             None   \n",
      "3514          None         None         None       None        None       None             None   \n",
      "\n",
      "      iteration_quest  \n",
      "0              quest3  \n",
      "1              quest3  \n",
      "2              quest3  \n",
      "3              quest3  \n",
      "4              quest3  \n",
      "...               ...  \n",
      "3510           quest3  \n",
      "3511           quest3  \n",
      "3512           quest3  \n",
      "3513           quest3  \n",
      "3514           quest3  \n",
      "\n",
      "[3515 rows x 121 columns]\n"
     ]
    }
   ],
   "source": [
    "# Column bind des logs et questionnaires\n",
    "df1 = pd.merge(df_effec1,df_quest1,on='Student_ID',how='inner',suffixes=('_effec','_quest'))\n",
    "df2 = pd.merge(df_effec2,df_quest2,on='Student_ID',how='inner',suffixes=('_effec','_quest'))\n",
    "df3 = pd.merge(df_effec3,df_quest3,on='Student_ID',how='inner',suffixes=('_effec','_quest'))\n"
   ]
  },
  {
   "cell_type": "code",
   "execution_count": null,
   "metadata": {},
   "outputs": [],
   "source": []
  },
  {
   "attachments": {},
   "cell_type": "markdown",
   "metadata": {},
   "source": [
    "# Simplification des questionnaires"
   ]
  },
  {
   "cell_type": "code",
   "execution_count": 92,
   "metadata": {},
   "outputs": [
    {
     "name": "stdout",
     "output_type": "stream",
     "text": [
      "0       NaN\n",
      "1        TH\n",
      "2        TH\n",
      "3        TH\n",
      "4         B\n",
      "       ... \n",
      "8981      H\n",
      "8982      H\n",
      "8983    NaN\n",
      "8984     TH\n",
      "8985    NaN\n",
      "Name: Country_HDI, Length: 8986, dtype: object\n"
     ]
    }
   ],
   "source": [
    "print(df_quest1[\"Country_HDI\"])"
   ]
  }
 ],
 "metadata": {
  "kernelspec": {
   "display_name": "base",
   "language": "python",
   "name": "python3"
  },
  "language_info": {
   "codemirror_mode": {
    "name": "ipython",
    "version": 3
   },
   "file_extension": ".py",
   "mimetype": "text/x-python",
   "name": "python",
   "nbconvert_exporter": "python",
   "pygments_lexer": "ipython3",
   "version": "3.10.9"
  },
  "orig_nbformat": 4
 },
 "nbformat": 4,
 "nbformat_minor": 2
}

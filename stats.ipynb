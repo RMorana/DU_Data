{
 "cells": [
  {
   "cell_type": "code",
   "execution_count": 2,
   "metadata": {},
   "outputs": [],
   "source": [
    "# Statistiques\n",
    "\n",
    "# importer les modules nécessaires\n",
    "import pandas as pd\n",
    "import matplotlib.pyplot as plt\n",
    "import seaborn as sns\n",
    "from distinctipy import distinctipy\n",
    "from matplotlib.font_manager import FontProperties\n",
    "from matplotlib import rc\n",
    "import numpy as np\n",
    "import plotly.graph_objects as go\n",
    "from plotly.subplots import make_subplots\n",
    "import ipywidgets as widgets\n",
    "from IPython.display import clear_output, display\n",
    "\n",
    "# Modifier les paramètres d'affichage de la sortie des commandes dans Jupyter\n",
    "pd.set_option('display.max_rows', 100)\n",
    "pd.set_option('display.max_columns', 50)\n",
    "pd.set_option('display.width', 100)\n",
    "\n",
    "# import de la police Garamond\n",
    "garamond_font = FontProperties(fname=\"C:/Windows/Fonts/GARA.TTF\",size=14)\n",
    "timesnewroman_font = FontProperties(fname=\"C:/Windows/Fonts/TIMES.TTF\",size=14)"
   ]
  },
  {
   "attachments": {},
   "cell_type": "markdown",
   "metadata": {},
   "source": [
    "Import des fichiers questionnaires et logs, et analyse"
   ]
  },
  {
   "cell_type": "code",
   "execution_count": 17,
   "metadata": {},
   "outputs": [],
   "source": [
    "# lire le fichier csv dans un dataframe et afficher les colonnes\n",
    "df_effec1 = pd.read_csv(\"data/stats/usages.effec1.csv\",header=0,sep=\",\", low_memory=False)\n",
    "df_effec2 = pd.read_csv(\"data/stats/usages.effec2.csv\",header=0,sep=\",\", low_memory=False)\n",
    "df_effec3 = pd.read_csv(\"data/stats/usages.effec3.csv\",header=0,sep=\",\", low_memory=False)\n",
    "\n",
    "df_quest1 = pd.read_csv(\"data/stats/effec1.quest.compil.csv\",header=0,sep=\",\", low_memory=False,encoding = \"ISO-8859-1\")\n",
    "df_quest2 = pd.read_csv(\"data/stats/effec2.quest.compil.csv\",header=0,sep=\",\", low_memory=False,encoding = \"ISO-8859-1\")\n",
    "df_quest3 = pd.read_csv(\"data/stats/effec3.quest.compil.csv\",header=0,sep=\",\", low_memory=False,encoding = \"ISO-8859-1\")\n",
    "\n"
   ]
  },
  {
   "attachments": {},
   "cell_type": "markdown",
   "metadata": {},
   "source": [
    "On constate que les dataframe EFFEC ou QUEST n'ont pas le même nombre de colonnes. Il faut donc identifier les différences et ajouter dans chaques dataframes les colonnes manquantes"
   ]
  },
  {
   "cell_type": "code",
   "execution_count": 18,
   "metadata": {},
   "outputs": [
    {
     "name": "stdout",
     "output_type": "stream",
     "text": [
      "Shape de EFFEC1:  (7965, 73)\n",
      "Shape de EFFEC2:  (3798, 74)\n",
      "Shape de EFFEC3:  (3883, 76)\n",
      "dans 1 mais pas dans 2 set()\n",
      "dans 1 mais pas dans 3 set()\n",
      "dans 2 mais pas dans 1 set()\n",
      "dans 2 mais pas dans 3 set()\n",
      "dans 3 mais pas dans 1 set()\n",
      "dans 3 mais pas dans 2 set()\n",
      "Shape de EFFEC1:  (7965, 76)\n",
      "Shape de EFFEC2:  (3798, 76)\n",
      "Shape de EFFEC3:  (3883, 76)\n"
     ]
    }
   ],
   "source": [
    "# A exécuter une deuxième fois après la cellule suivante\n",
    "\n",
    "# Affichage des Shape des dataframes ainsi que des colonnes manquantes\n",
    "print(\"Shape de EFFEC1: \",df_effec1.shape)\n",
    "print(\"Shape de EFFEC2: \",df_effec2.shape)\n",
    "print(\"Shape de EFFEC3: \",df_effec3.shape)\n",
    "\n",
    "# Complétion de EFFEC1 et EFFEC2\n",
    "df_effec1[[\"view.forum.fonc.cours\", \"Post.forum.fonc.cours\",\"Assignment.choice\"]]=None\n",
    "df_effec2[[\"view.forum.fonc.cours\", \"Post.forum.fonc.cours\"]]=None\n",
    "\n",
    "# Comparaison de EFFEC1 avec les autres\n",
    "missing_colonnes_EFFEC1_EFFEC2 = set(df_effec1) - set(df_effec2)\n",
    "print(\"dans 1 mais pas dans 2\", missing_colonnes_EFFEC1_EFFEC2) #si vide pas de colonnes dans EFFEC1 absentes de EFFEC2\n",
    "missing_colonnes_EFFEC1_EFFEC3 = set(df_effec1) - set(df_effec3)\n",
    "print(\"dans 1 mais pas dans 3\", missing_colonnes_EFFEC1_EFFEC3) #si vide pas de colonnes dans EFFEC1 absentes de EFFEC3\n",
    "\n",
    "# Comparaison de EFFEC2 avec les autres\n",
    "missing_colonnes_EFFEC2_EFFEC1 = set(df_effec2) - set(df_effec1)\n",
    "print(\"dans 2 mais pas dans 1\", missing_colonnes_EFFEC2_EFFEC1) #si vide pas de colonnes dans EFFEC2 absentes de EFFEC1\n",
    "missing_colonnes_EFFEC2_EFFEC3 = set(df_effec2) - set(df_effec3)\n",
    "print(\"dans 2 mais pas dans 3\", missing_colonnes_EFFEC2_EFFEC3) #si vide pas de colonnes dans EFFEC2 absente de EFFEC3\n",
    "\n",
    "# Comparaison de EFFEC3 avec les autres\n",
    "missing_colonnes_EFFEC3_EFFEC1 = set(df_effec3) - set(df_effec1)\n",
    "print(\"dans 3 mais pas dans 1\",missing_colonnes_EFFEC3_EFFEC1) #si vide pas de colonnes dans EFFEC3 absentes de EFFEC1\n",
    "missing_colonnes_EFFEC3_EFFEC2 = set(df_effec3) - set(df_effec2)\n",
    "print(\"dans 3 mais pas dans 2\", missing_colonnes_EFFEC3_EFFEC2) #si vide pas de colonnes dans EFFEC3 absentes de EFFEC2\n",
    "\n",
    "print(\"Shape de EFFEC1: \",df_effec1.shape)\n",
    "print(\"Shape de EFFEC2: \",df_effec2.shape)\n",
    "print(\"Shape de EFFEC3: \",df_effec3.shape)"
   ]
  },
  {
   "attachments": {},
   "cell_type": "markdown",
   "metadata": {},
   "source": [
    "Même travail d'alignement des colonnes sur les questionnaires"
   ]
  },
  {
   "cell_type": "code",
   "execution_count": 19,
   "metadata": {},
   "outputs": [
    {
     "name": "stdout",
     "output_type": "stream",
     "text": [
      "Shape de QUEST1:  (8986, 35)\n",
      "Shape de QUEST2:  (4078, 40)\n",
      "Shape de QUEST3:  (4233, 26)\n",
      "dans 1 mais pas dans 2 set()\n",
      "dans 1 mais pas dans 3 set()\n",
      "dans 2 mais pas dans 1 set()\n",
      "dans 2 mais pas dans 3 set()\n",
      "dans 3 mais pas dans 1 set()\n",
      "dans 3 mais pas dans 2 set()\n",
      "Shape de QUEST1:  (8986, 44)\n",
      "Shape de QUEST2:  (4078, 44)\n",
      "Shape de QUEST3:  (4233, 44)\n"
     ]
    }
   ],
   "source": [
    "# A exécuter une deuxième fois après la cellule suivante\n",
    "\n",
    "# Affichage des Shape des dataframes ainsi que des colonnes manquantes\n",
    "print(\"Shape de QUEST1: \",df_quest1.shape)\n",
    "print(\"Shape de QUEST2: \",df_quest2.shape)\n",
    "print(\"Shape de QUEST3: \",df_quest3.shape)\n",
    "\n",
    "# Complétion des QUEST\n",
    "df_quest1[['Section', 'Mot', 'Current.Score', 'Proba.reco', 'EMLyon.et', 'EMLyon','Section', 'Certif.bin', 'age', 'EMLYON.et', 'EMLyon']]=None\n",
    "df_quest2[[\"encad.diffic\",'Certif.bin', 'EMLYON.et', 'age']]=None\n",
    "df_quest3[['Plat.satisf', 'encad.disp', 'Eval.diffic', 'Estimated.hours', 'diffic','Mot', 'Current.Score', 'Satisf', 'entour.inter', 'Instit.brand', 'entour', 'encad.diffic', 'How.contact', 'motiv.princ', 'Part.labo', 'Proba.reco', 'EMLyon.et', 'Peer.eval.relev']]=None\n",
    "\n",
    "# Comparaison de QUEST1 avec les autres\n",
    "missing_colonnes_QUEST1_QUEST2 = set(df_quest1) - set(df_quest2)\n",
    "print(\"dans 1 mais pas dans 2\", missing_colonnes_QUEST1_QUEST2) #si vide pas de colonnes dans QUEST1 absentes de QUEST2\n",
    "missing_colonnes_QUEST1_QUEST3 = set(df_quest1) - set(df_quest3)\n",
    "print(\"dans 1 mais pas dans 3\", missing_colonnes_QUEST1_QUEST3) #si vide pas de colonnes dans QUEST1 absentes de QUEST3\n",
    "\n",
    "# Comparaison de QUEST2 avec les autres\n",
    "missing_colonnes_QUEST2_QUEST1 = set(df_quest2) - set(df_quest1)\n",
    "print(\"dans 2 mais pas dans 1\", missing_colonnes_QUEST2_QUEST1) # si vide pas de colonnes dans QUEST2 absentes de QUEST1\n",
    "missing_colonnes_QUEST2_QUEST3 = set(df_quest2) - set(df_quest3)\n",
    "print(\"dans 2 mais pas dans 3\", missing_colonnes_QUEST2_QUEST3) # si vide pas de colonnes dans QUEST2 absentes de QUEST3\n",
    "\n",
    "# Comparaison de QUEST3 avec les autres\n",
    "missing_colonnes_QUEST3_QUEST1 = set(df_quest3) - set(df_quest1)\n",
    "print(\"dans 3 mais pas dans 1\", missing_colonnes_QUEST3_QUEST1) # si vide pas de colonnes dans QUEST3 absentes de QUEST1\n",
    "missing_colonnes_QUEST3_QUEST2 = set(df_quest3) - set(df_quest2)\n",
    "print(\"dans 3 mais pas dans 2\", missing_colonnes_QUEST3_QUEST2) # si vide pas de colonnes dans QUEST3 absentes de QUEST2\n",
    "\n",
    "print(\"Shape de QUEST1: \",df_quest1.shape)\n",
    "print(\"Shape de QUEST2: \",df_quest2.shape)\n",
    "print(\"Shape de QUEST3: \",df_quest3.shape)"
   ]
  },
  {
   "attachments": {},
   "cell_type": "markdown",
   "metadata": {},
   "source": [
    "Ajout d'une colonne itération pour conserver la trace du numéro d'itération"
   ]
  },
  {
   "cell_type": "code",
   "execution_count": 22,
   "metadata": {},
   "outputs": [
    {
     "name": "stdout",
     "output_type": "stream",
     "text": [
      "      Student_ID iteration\n",
      "0            221         1\n",
      "1          19178         1\n",
      "2           1086         1\n",
      "3           1948         1\n",
      "4          16209         1\n",
      "...          ...       ...\n",
      "8981       18143         1\n",
      "8982       18156         1\n",
      "8983       16956         1\n",
      "8984       14118         1\n",
      "8985       11723         1\n",
      "\n",
      "[8986 rows x 2 columns]\n"
     ]
    }
   ],
   "source": [
    "# Ajout colonne\n",
    "df_effec1[\"iteration\"]=\"1\"\n",
    "df_effec2[\"iteration\"]=\"2\"\n",
    "df_effec3[\"iteration\"]=\"3\"\n",
    "df_quest1[\"iteration\"]=\"1\"\n",
    "df_quest2[\"iteration\"]=\"2\"\n",
    "df_quest3[\"iteration\"]=\"3\"\n",
    "\n",
    "print(df_quest1[\"Student_ID\"])\n",
    "\n"
   ]
  },
  {
   "attachments": {},
   "cell_type": "markdown",
   "metadata": {},
   "source": [
    "Column bind des logs et questionnaires"
   ]
  },
  {
   "cell_type": "code",
   "execution_count": 29,
   "metadata": {},
   "outputs": [
    {
     "name": "stdout",
     "output_type": "stream",
     "text": [
      "Shape de DF1:  (8986, 121)\n",
      "shape de DF2:  (4174, 121)\n",
      "Shape de DF3:  (4601, 121)\n"
     ]
    }
   ],
   "source": [
    "# Column bind des logs et questionnaires\n",
    "df1 = pd.merge(df_quest1, df_effec1,on=['Student_ID'],how='outer',suffixes=('_quest','_effec'))\n",
    "df2 = pd.merge(df_quest2, df_effec2,on=['Student_ID'],how='outer',suffixes=('_quest','_effec'))\n",
    "df3 = pd.merge(df_quest3, df_effec3,on=['Student_ID'],how='outer',suffixes=('_quest','_effec'))\n",
    "print(\"Shape de DF1: \", df1.shape)\n",
    "print(\"shape de DF2: \", df2.shape)\n",
    "print(\"Shape de DF3: \", df3.shape)\n"
   ]
  },
  {
   "cell_type": "code",
   "execution_count": 33,
   "metadata": {},
   "outputs": [
    {
     "name": "stdout",
     "output_type": "stream",
     "text": [
      "Index(['Student_ID', 'Gender', 'Country_HDI', 'Country_HDI.fin', 'Certif.bin', 'age',\n",
      "       'iteration_quest', 'Exam.score', 'Exam.bin', 'Assignment.score', 'Assignment.bin',\n",
      "       'Quizz.1.score', 'Quizz.1.bin', 'Quizz.2.score', 'Quizz.2.bin', 'Quizz.3.score',\n",
      "       'Quizz.3.bin', 'Quizz.4.bin', 'Quizz.4.score', 'Quizz.5.bin', 'Quizz.5.score', 'Intro.MOOC',\n",
      "       'Prez.sem.1', 'S1.L1', 'S1.L2', 'S1.L3', 'S1.L4', 'S1.L5', 'S1.L6', 'Prez.sem.2', 'S2.L1',\n",
      "       'S2.L2', 'S2.L3', 'S2.L4', 'S2.L5', 'S2.L6', 'Prez.sem.3', 'S3.L1.1', 'S3.L1.2', 'S3.L2',\n",
      "       'S3.L3', 'S3.L4', 'S3.L5', 'Prez.sem.4', 'S4.L1.1', 'S4.L1.2', 'S4.L2', 'S4.L3', 'S4.L4',\n",
      "       'S4.L5', 'Prez.sem.5', 'S5.L1.1', 'S5.L1.2', 'S5.L2', 'S5.L3', 'S5.L4', 'S5.L5',\n",
      "       'Post.forum.0', 'view.forum.0', 'Post.forum.1', 'Post.forum.1.2', 'view.forum.1',\n",
      "       'view.forum.1.2', 'Post.forum.2', 'Post.forum.2.2', 'view.forum.2', 'view.forum.2.2',\n",
      "       'Post.forum.3', 'view.forum.3', 'Post.forum.4', 'Post.forum.4.2', 'view.forum.4',\n",
      "       'view.forum.4.2', 'Post.forum.5', 'Post.forum.5.2', 'view.forum.5', 'view.forum.5.2',\n",
      "       'last.video', 'last.quizz', 'view.forum.fonc.cours', 'Post.forum.fonc.cours',\n",
      "       'Assignment.choice', 'iteration_effec'],\n",
      "      dtype='object')\n",
      "Shape de DF:  (17761, 83)\n"
     ]
    }
   ],
   "source": [
    "# Concaténation des df1, df2 et df3, row bind et suppression des colonnes inutiles des questionnaires\n",
    "\n",
    "df_tmp_1et2 = pd.concat([df1,df2], ignore_index=True)\n",
    "df_tmp_et3=pd.concat([df_tmp_1et2,df3], ignore_index=True)\n",
    "df_tmp_drop = df_tmp_et3.drop(['birth.year', 'Country', 'Diploma', 'Formation', 'CSP', 'How.heard',\n",
    "       'Exp.crea', 'Curiosity.MOOC', 'Certif.self.sat', 'Rencontres', 'Certif.work', 'Incitation',\n",
    "       'Temps.Dispo', 'Exp.MOOC', 'Completion.proba', 'Instit.brand', 'motiv.princ', 'diffic',\n",
    "       'encad.disp', 'How.contact', 'entour', 'entour.inter', 'Satisf', 'Eval.diffic',\n",
    "       'Estimated.hours', 'Part.labo', 'Plat.satisf', 'Peer.eval.relev', 'encad.diffic', 'CSP.fin', 'Temps.dispo.fin', 'Section', 'Mot',\n",
    "       'Current.Score', 'Proba.reco', 'EMLyon.et', 'EMLyon', 'EMLYON.et'],axis=1, inplace=False)\n",
    "\n",
    "df_tmp_drop2 = df_tmp_drop.drop(df.filter(regex='Post.forum*').columns, axis=1)\n",
    "df = df_tmp_drop2.drop(df.filter(regex='view.forum*').columns, axis=1)\n",
    "\n",
    "print(df.columns)\n",
    "print(\"Shape de DF: \", df.shape)"
   ]
  },
  {
   "attachments": {},
   "cell_type": "markdown",
   "metadata": {},
   "source": [
    "# "
   ]
  },
  {
   "attachments": {},
   "cell_type": "markdown",
   "metadata": {},
   "source": [
    "Somme des vidéos visionnées et des quizz réalisés par apprenant\n",
    "Ajout d'une colonne HDI avec 3 valeurs"
   ]
  },
  {
   "cell_type": "code",
   "execution_count": 40,
   "metadata": {},
   "outputs": [
    {
     "name": "stdout",
     "output_type": "stream",
     "text": [
      "Count des modalités de HDI HDI\n",
      "B     1032\n",
      "I      667\n",
      "TH    7270\n",
      "Name: Student_ID, dtype: int64\n"
     ]
    }
   ],
   "source": [
    "# Nombre de vidéos visionnés et de Quizz réalisés pour un apprenant donné\n",
    "\n",
    "# Create List of columns. Nombre de quizz réalisés\n",
    "col_list_quizz_real= ['Quizz.1.bin','Quizz.2.bin','Quizz.3.bin','Quizz.4.bin','Quizz.5.bin']\n",
    "\n",
    "# sum specific columns\n",
    "df[\"Nb_Quizz_Realises\"] = df[col_list_quizz_real].sum(axis=1)\n",
    "\n",
    "# Create List of columns. Nombre de vidéos visionnées\n",
    "col_list_videos_visionnees= ['S1.L1','S1.L2','S1.L3','S1.L4','S1.L5','S1.L6','S2.L1','S2.L2','S2.L3','S2.L4','S2.L5','S2.L6','S3.L1.1','S3.L1.2','S3.L2','S3.L3','S3.L4','S3.L5','S4.L1.1','S4.L1.2','S4.L2','S4.L3','S4.L4','S4.L5','S5.L1.1','S5.L1.2','S5.L2','S5.L3','S5.L4','S5.L5']\n",
    "\n",
    "# sum specific columns\n",
    "df[\"Nb_Videos_Visionnees\"] = df[col_list_videos_visionnees].sum(axis=1)\n",
    "\n",
    "# Ajout colonne HDI avec M ou H donne I\n",
    "df_HDI = []\n",
    "for i in np.arange(len(df[\"Country_HDI\"])):\n",
    "    if df[\"Country_HDI\"][i] == \"M\":\n",
    "        df_HDI.append(\"I\")\n",
    "    if df[\"Country_HDI\"][i] == \"H\":\n",
    "        df_HDI.append(\"I\")\n",
    "    if df[\"Country_HDI\"][i] == \"TH\":\n",
    "        df_HDI.append(\"TH\")\n",
    "    if df[\"Country_HDI\"][i] == \"B\":\n",
    "        df_HDI.append(\"B\")\n",
    "    if ((df[\"Country_HDI\"][i] != \"M\") and\n",
    "        (df[\"Country_HDI\"][i] != \"H\") and\n",
    "        (df[\"Country_HDI\"][i] != \"TH\") and\n",
    "        (df[\"Country_HDI\"][i] != \"B\") and\n",
    "        (df[\"Country_HDI\"][i] != \"I\")):\n",
    "        df_HDI.append(np.nan)\n",
    "\n",
    "df[\"HDI\"] = df_HDI\n",
    "\n",
    "# comptage des modalités\n",
    "print(\"Count des modalités de HDI\", df.groupby(\"HDI\")[\"Student_ID\"].count())\n",
    "\n"
   ]
  },
  {
   "cell_type": "code",
   "execution_count": 41,
   "metadata": {},
   "outputs": [
    {
     "name": "stdout",
     "output_type": "stream",
     "text": [
      "0                  bystander\n",
      "1                  bystander\n",
      "2        disengaging_learner\n",
      "3                  bystander\n",
      "4        disengaging_learner\n",
      "                ...         \n",
      "17756              bystander\n",
      "17757              bystander\n",
      "17758              bystander\n",
      "17759              bystander\n",
      "17760              bystander\n",
      "Name: status, Length: 17761, dtype: object\n"
     ]
    }
   ],
   "source": [
    "# Ajout d'une colonne de statut avec 4 valeurs \"bystander\", \"auditing\", \"completer\", \"disengaging\"\n",
    "# pour chaque élève\n",
    "\n",
    "df_status = [np.nan]*len(df[\"Student_ID\"])\n",
    "for i in np.arange(len(df[\"Student_ID\"])):\n",
    "    if ((df[\"Nb_Videos_Visionnees\"][i] < 6) and \n",
    "        (df[\"Nb_Quizz_Realises\"][i] ==0) and\n",
    "        (df[\"Assignment.bin\"][i]==0)):\n",
    "        df_status[i] = \"bystander\"\n",
    "        \n",
    "    if ((df[\"Nb_Videos_Visionnees\"][i] > 6) and \n",
    "        (df[\"Nb_Quizz_Realises\"][i] == 0) and\n",
    "        (df[\"Assignment.bin\"][i]== 0)):\n",
    "        df_status[i] = \"auditing_learner\"\n",
    "    \n",
    "    if (((df[\"Assignment.bin\"][i]>=1) or \n",
    "        (df[\"Nb_Quizz_Realises\"][i] >= 1)) and\n",
    "        ((df[\"Exam.bin\"][i] == 0) or\n",
    "         (df[\"Certif.bin\"][i] == 0))):\n",
    "        df_status[i] = \"disengaging_learner\"\n",
    "\n",
    "    if ((df[\"Exam.bin\"][i] >= 1) or\n",
    "         (df[\"Certif.bin\"][i] >= 1)):\n",
    "        df_status[i] = \"completer\"\n",
    "df[\"status\"] = df_status \n",
    "print(df[\"status\"])"
   ]
  },
  {
   "attachments": {},
   "cell_type": "markdown",
   "metadata": {},
   "source": [
    "Description du jeu de données"
   ]
  },
  {
   "cell_type": "code",
   "execution_count": 106,
   "metadata": {},
   "outputs": [
    {
     "name": "stdout",
     "output_type": "stream",
     "text": [
      "status           auditing_learner  bystander  completer  disengaging_learner  Nb total  Prct total\n",
      "iteration_quest                                                                                   \n",
      "1                            0.72      39.89       0.25                59.14    7870.0       100.0\n",
      "2                            1.51      45.37      23.99                29.13    3652.0       100.0\n",
      "3                            0.98      50.75      24.05                24.22    3460.0       100.0\n",
      "iteration_quest            1        2        3\n",
      "status                                        \n",
      "auditing_learner        0.72     1.51     0.98\n",
      "bystander              39.89    45.37    50.75\n",
      "completer               0.25    23.99    24.05\n",
      "disengaging_learner    59.14    29.13    24.22\n",
      "Nb total             7870.00  3652.00  3460.00\n",
      "Prct total            100.00   100.00   100.00\n"
     ]
    },
    {
     "name": "stderr",
     "output_type": "stream",
     "text": [
      "/var/folders/8g/9w5gh8y54xd9jss52_tlythr0000gn/T/ipykernel_1618/3836070026.py:9: FutureWarning: The frame.append method is deprecated and will be removed from pandas in a future version. Use pandas.concat instead.\n",
      "  df_pivot = df_pivot.append(sum.transpose())\n",
      "/var/folders/8g/9w5gh8y54xd9jss52_tlythr0000gn/T/ipykernel_1618/3836070026.py:22: FutureWarning: The frame.append method is deprecated and will be removed from pandas in a future version. Use pandas.concat instead.\n",
      "  df_final = df_final_tmp.append(sum.transpose())\n"
     ]
    }
   ],
   "source": [
    "# table pivot\n",
    "df_pivot = pd.pivot_table(df, index=[\"status\"], values=\"Student_ID\",columns=[\"iteration_quest\"], aggfunc=\"count\")\n",
    "\n",
    "# Ajout du nb de personnes concernées par chaque itération\n",
    "# Get sum of all rows as a new row in Dataframe\n",
    "sum = df_pivot.sum()\n",
    "sum.name = 'Nb total'\n",
    "# Assign sum of all rows of DataFrame as a new Row\n",
    "df_pivot = df_pivot.append(sum.transpose())\n",
    "df_pivot_transpose = df_pivot.transpose()\n",
    "\n",
    "# Calcul des proportions\n",
    "cols = ['auditing_learner', 'bystander', 'completer', 'disengaging_learner']\n",
    "df_pivot_transpose[cols] = df_pivot_transpose[cols].divide(df_pivot_transpose['Nb total'], axis=0)*100\n",
    "df_final_tmp = df_pivot_transpose.transpose()\n",
    "\n",
    "sum = df_final_tmp.loc[[\"auditing_learner\",\"completer\",\"disengaging_learner\",\"bystander\"]].sum()\n",
    "sum.name = \"Prct total\"\n",
    "#print(sum)\n",
    "\n",
    "# Assign sum of all rows of DataFrame as a new Row\n",
    "df_final = df_final_tmp.append(sum.transpose())\n",
    "df_final_transpose = df_final.transpose()\n",
    "\n",
    "print(df_final_transpose.round(2))\n",
    "print(df_final.round(2))"
   ]
  },
  {
   "cell_type": "code",
   "execution_count": 107,
   "metadata": {},
   "outputs": [
    {
     "name": "stdout",
     "output_type": "stream",
     "text": [
      "table pivot \n",
      " Gender  un homme  une femme\n",
      "HDI                        \n",
      "B            883        147\n",
      "I            432        233\n",
      "TH          4716       2546\n",
      "stats_chi2  179.04761227077512\n",
      "dof  2\n",
      "p_value  1.3191828493465903e-39\n"
     ]
    }
   ],
   "source": [
    "# Test du CHI2\n",
    "\n",
    "# importer le module scipy.stats chi2_contingency\n",
    "from scipy.stats import chi2_contingency as chi2_contingency\n",
    " \n",
    "# Les données, pivot_table\n",
    "df_pivot_HDI_Gender = df[[\"HDI\",\"Gender\"]].pivot_table(index=\"HDI\", columns=\"Gender\", aggfunc=len).fillna(0).copy()\n",
    "print(\"table pivot \\n\", df_pivot_HDI_Gender)\n",
    "\n",
    "# Chi2 contingency\n",
    "(chi2, p_value, dof, exp) = chi2_contingency(df_pivot_HDI_Gender)\n",
    "print(\"stats_chi2 \", chi2)\n",
    "print(\"dof \", dof)\n",
    "print(\"p_value \", p_value)\n",
    "\n"
   ]
  },
  {
   "cell_type": "code",
   "execution_count": 108,
   "metadata": {},
   "outputs": [
    {
     "data": {
      "image/png": "[encoded data removed]",
      "text/plain": [
       "<Figure size 1000x800 with 3 Axes>"
      ]
     },
     "metadata": {},
     "output_type": "display_data"
    }
   ],
   "source": [
    "# Mosaic plot sans résidus\n",
    "from statsmodels.graphics.mosaicplot import mosaic\n",
    "from statsmodels.stats.contingency_tables import Table\n",
    "import matplotlib.pyplot as plt\n",
    "\n",
    "# Create a new figure with a defined size\n",
    "fig, ax = plt.subplots(figsize=(10, 8))\n",
    "\n",
    "# Create the mosaic plot\n",
    "mosaic(df, ['Gender','HDI'], gap=0.02, ax=ax)\n",
    "\n",
    "# Customize the plot\n",
    "plt.title('Relation entre HDI du pays et Genre. Engagement à suivre des MOOCs', fontsize=15)\n",
    "plt.xlabel('Gender')\n",
    "plt.ylabel('HDI du pays')\n",
    "\n",
    "plt.show()\n"
   ]
  },
  {
   "cell_type": "code",
   "execution_count": 109,
   "metadata": {},
   "outputs": [
    {
     "name": "stdout",
     "output_type": "stream",
     "text": [
      "Statistique de test : -3.8069653029331483\n",
      "Valeur de p : 0.00014160623112279648\n"
     ]
    }
   ],
   "source": [
    "# Test de student. Nb de vidéos vues et Genre\n",
    "# distribution a priori normale\n",
    "# hypothèse nulle : (Moy. nb video homme - Moy. nb video femme) = 0\n",
    "\n",
    "import scipy.stats as stats\n",
    "\n",
    "# Diviser la colonne HDI en deux groupes pour Genre = un homme ou une femme\n",
    "groupe_1 = df[df[\"Gender\"]==\"un homme\"]['Nb_Videos_Visionnees']\n",
    "groupe_2 = df[df['Gender']==\"une femme\"]['Nb_Videos_Visionnees']\n",
    "\n",
    "# Effectuer le test de Student\n",
    "t_statistic, p_value = stats.ttest_ind(groupe_1,groupe_2)\n",
    "\n",
    "# Afficher les résultats\n",
    "print(\"Statistique de test :\", t_statistic)\n",
    "print(\"Valeur de p :\", p_value)\n"
   ]
  },
  {
   "cell_type": "code",
   "execution_count": 110,
   "metadata": {},
   "outputs": [
    {
     "data": {
      "image/png": "[encoded data removed]",
      "text/plain": [
       "<Figure size 640x480 with 1 Axes>"
      ]
     },
     "metadata": {},
     "output_type": "display_data"
    },
    {
     "data": {
      "image/png": "[encoded data removed]",
      "text/plain": [
       "<Figure size 640x480 with 1 Axes>"
      ]
     },
     "metadata": {},
     "output_type": "display_data"
    }
   ],
   "source": [
    "# Création des 2 groupes Nb vidéos pour homme et femme\n",
    "#print(df_small)\n",
    "\n",
    "une_femme = df[df[\"Gender\"]==\"une femme\"][\"Nb_Videos_Visionnees\"]\n",
    "un_homme = df[df[\"Gender\"]==\"un homme\"][\"Nb_Videos_Visionnees\"]\n",
    "\n",
    "list_of_tuples_gender = list(zip(une_femme,un_homme))\n",
    "df_genre = pd.DataFrame(list_of_tuples_gender, columns=[\"une femme\",\"un homme\"])\n",
    "#print(df_genre)\n",
    "\n",
    "hdi_b = df[df[\"HDI\"]==\"B\"][\"Nb_Videos_Visionnees\"]\n",
    "hdi_i = df[df[\"HDI\"]==\"I\"][\"Nb_Videos_Visionnees\"]\n",
    "hdi_th = df[df[\"HDI\"]==\"TH\"][\"Nb_Videos_Visionnees\"]\n",
    "list_of_tuples_hdi = list(zip(hdi_b,hdi_i, hdi_th))\n",
    "df_vhdi = pd.DataFrame(list_of_tuples_hdi, columns=[\"hdi_b\",\"hdi_i\",\"hdi_th\"])\n",
    "#print(df_vhdi)\n",
    "\n",
    "\n",
    "# Distribution normale ou pas pour HDI Gender, avec boxplot\n",
    "fig1,ax1 = plt.subplots()\n",
    "ax1.boxplot(df_genre)\n",
    "ax1.set_title(\"Distribution du # de vidéos par Genre\")\n",
    "ax1.set_ylabel(\"Distribution\")\n",
    "plt.xticks(ticks = (1,2) ,labels = [\"un homme\",\"une femme\"])\n",
    "fig2,ax2 = plt.subplots()\n",
    "ax2.boxplot(df_vhdi)\n",
    "ax2.set_title('Distribution du # de vidéos par HDI')\n",
    "ax2.set_ylabel('Distribution')\n",
    "plt.xticks(ticks = (1,2,3) ,labels = [\"B\",\"I\",\"TH\"])\n",
    "plt.show()"
   ]
  },
  {
   "cell_type": "code",
   "execution_count": 113,
   "metadata": {},
   "outputs": [
    {
     "name": "stdout",
     "output_type": "stream",
     "text": [
      "Variance des videos visionnées par des hommes:  137.34\n",
      "Variance des videos visionnées par des femmes:  140.68\n",
      "Variance des videos visionnées par hdi bas:  79.5\n",
      "Variance des videos visionnées par hdi bas:  127.78\n",
      "Variance des videos visionnées par hdi bas:  137.77\n"
     ]
    }
   ],
   "source": [
    "# calcul des variances des populations\n",
    "\n",
    "import statistics\n",
    "var_videos_visionnees_hommes = statistics.variance(group_videos_hommes)\n",
    "print(\"Variance des videos visionnées par des hommes: \", round(var_videos_visionnees_hommes,2))\n",
    "\n",
    "var_videos_visionnees_femmes = statistics.variance(group_videos_femmes)\n",
    "print(\"Variance des videos visionnées par des femmes: \", round(var_videos_visionnees_femmes,2))\n",
    "\n",
    "var_videos_visionnees_hdi_b = statistics.variance(hdi_b)\n",
    "print(\"Variance des videos visionnées par hdi bas: \", round(var_videos_visionnees_hdi_b,2))\n",
    "\n",
    "var_videos_visionnees_hdi_i = statistics.variance(hdi_i)\n",
    "print(\"Variance des videos visionnées par hdi bas: \", round(var_videos_visionnees_hdi_i,2))\n",
    "\n",
    "var_videos_visionnees_hdi_th = statistics.variance(hdi_th)\n",
    "print(\"Variance des videos visionnées par hdi bas: \", round(var_videos_visionnees_hdi_th,2))\n",
    "\n"
   ]
  },
  {
   "attachments": {},
   "cell_type": "markdown",
   "metadata": {},
   "source": [
    "# Vérification des hypothèses pour le test paramétrique.\n",
    "\n",
    "Nous concluons que les variances sont similaires."
   ]
  },
  {
   "cell_type": "code",
   "execution_count": 144,
   "metadata": {},
   "outputs": [
    {
     "data": {
      "text/plain": [
       "Ttest_indResult(statistic=-3.7828059599346706, pvalue=0.00015606501583036533)"
      ]
     },
     "execution_count": 144,
     "metadata": {},
     "output_type": "execute_result"
    }
   ],
   "source": [
    "# Test de Student sur 2 populations\n",
    "import scipy.stats as stats\n",
    "stats.ttest_ind(group_videos_hommes, group_videos_femmes)\n"
   ]
  },
  {
   "attachments": {},
   "cell_type": "markdown",
   "metadata": {},
   "source": [
    "# Vérification des hypothèses pour le test paramétrique.\n",
    "\n",
    "Test de Student sur les variables Nb_Videos_Visionnees et Gender. Pour déterminer leur niveau d’indépendance. Hypothèse nulle = (Moyenne des vidéos visionnées par les hommes – Moyenne des vidéos visionnées par les femmes) = 0\n",
    "Vérification des prérequis : 1) Distribution normale ou échantillons de grande taille 2) Homogénéité des variances 3) Indépendance des échantillons\n",
    "\n",
    "Le test de Student est un test paramétrique. Ici les prérequis ne sont pas respectés (voir les indications ci-après) mais le test est réalisé malgré tout comme demandé.\n",
    "\n",
    "Les distributions ne sont pas « normales » car la médiane n’est pas située entre le premier et le troisième quartile.\n",
    "\n",
    "On suppose que les populations de vidéos visionnées par les femmes ou les hommes ont été mesurées aléatoirement. Les valeurs sont continues et bornées (min : 0, max : environ 30).\n",
    "\n",
    "Le test de Student pour ces 2 populations donne un résultat négatif (-3.74) et une p-value inférieure à 0.001.\n",
    "\n",
    "Résultat\n",
    "Ici, avec des prérequis non respectés, on trouve que l’hypothèse nulle (Moyenne vidéos visionnées par les hommes – Moyenne vidéo visionnées par les femmes) = 0 est malgré tout respectée avec un fort niveau de confiance (p-value < 0.001).\n",
    "\n"
   ]
  },
  {
   "cell_type": "code",
   "execution_count": 145,
   "metadata": {},
   "outputs": [
    {
     "data": {
      "text/plain": [
       "MannwhitneyuResult(statistic=8711923.0, pvalue=0.00021673578234605281)"
      ]
     },
     "execution_count": 145,
     "metadata": {},
     "output_type": "execute_result"
    }
   ],
   "source": [
    "# Test non paramétrique U de Mann-Whitney\n",
    "\n",
    "stats.mannwhitneyu(group_videos_hommes,group_videos_femmes, use_continuity=True, alternative=\"less\")\n"
   ]
  },
  {
   "attachments": {},
   "cell_type": "markdown",
   "metadata": {},
   "source": [
    "Utilisez une régression linéaire, avec un test de corrélation de Pearson, puis\n",
    "de Spearman, pour établir le lien entre nombre de quiz réalisés et nombre de\n",
    "vidéos visionnées. Faites un scatterplot pour représenter ce lien."
   ]
  },
  {
   "cell_type": "code",
   "execution_count": 147,
   "metadata": {},
   "outputs": [
    {
     "name": "stdout",
     "output_type": "stream",
     "text": [
      "moyenne  1.970293768936899\n",
      "min :  0\n",
      "max :  5\n",
      "15182\n",
      "15182\n",
      "Corrélation de Pearson  0.8065703633633725\n",
      "Pearson p-value  0.0\n",
      "Corrélation de Spearman  0.8011244805840398\n",
      "Spearman p-value  0.0\n"
     ]
    },
    {
     "data": {
      "image/png": "[encoded data removed]",
      "text/plain": [
       "<Figure size 640x480 with 1 Axes>"
      ]
     },
     "metadata": {},
     "output_type": "display_data"
    }
   ],
   "source": [
    "# test de corrélation de Pearson\n",
    "\n",
    "# création de 2 séries pour les # de quiz et # de vidéos à partir de df_small\n",
    "nb_quiz = df[\"Nb_Quizz_Realises\"]\n",
    "nb_videos = df[\"Nb_Videos_Visionnees\"]\n",
    "\n",
    "# stats sur nb_quiz\n",
    "print(\"moyenne \", nb_quiz.mean())\n",
    "print(\"min : \", nb_quiz.min())\n",
    "print(\"max : \", nb_quiz.max())\n",
    "\n",
    "# vérification que la longeur est la même pour les 2 séries\n",
    "print(len(nb_quiz))\n",
    "print(len(nb_videos))\n",
    "\n",
    "# corr de Pearson\n",
    "(stats_pearson,p_value_pearson) = stats.pearsonr(nb_quiz,nb_videos)\n",
    "print(\"Corrélation de Pearson \", stats_pearson)\n",
    "print(\"Pearson p-value \", p_value_pearson)\n",
    "\n",
    "# corr de Spearman\n",
    "(stats_spearman, p_value_spearman) = stats.spearmanr(nb_quiz,nb_videos)\n",
    "print(\"Corrélation de Spearman \", stats_spearman)\n",
    "print(\"Spearman p-value \", p_value_spearman)\n",
    "\n",
    "# illustration par un scatterplot\n",
    "fig1,ax1 = plt.subplots()\n",
    "ax1.scatter(nb_quiz,nb_videos,marker=\".\", color=\"red\")\n",
    "plt.show()"
   ]
  },
  {
   "cell_type": "code",
   "execution_count": 168,
   "metadata": {},
   "outputs": [
    {
     "name": "stdout",
     "output_type": "stream",
     "text": [
      "       Nb_Videos_Visionnees  HDI     Gender\n",
      "0                         0  NaN        NaN\n",
      "1                         1   TH  une femme\n",
      "2                        30   TH  une femme\n",
      "3                         1   TH  une femme\n",
      "4                         0    B  une femme\n",
      "...                     ...  ...        ...\n",
      "15177                     2    B   un homme\n",
      "15178                     0  NaN        NaN\n",
      "15179                     0  NaN        NaN\n",
      "15180                     1  NaN        NaN\n",
      "15181                     0  NaN        NaN\n",
      "\n",
      "[15182 rows x 3 columns]\n",
      "               df        sum_sq       mean_sq           F         PR(>F)\n",
      "C(HDI)        2.0  7.597238e+04  37986.189851  291.632361  2.008901e-123\n",
      "C(Gender)     1.0  5.743061e+01     57.430606    0.440913   5.066990e-01\n",
      "Residual   8947.0  1.165380e+06    130.253685         NaN            NaN\n",
      "                      df        sum_sq       mean_sq           F         PR(>F)\n",
      "C(HDI)               2.0  7.597238e+04  37986.189851  291.664690  1.952658e-123\n",
      "C(Gender)            1.0  5.743061e+01     57.430606    0.440962   5.066754e-01\n",
      "C(HDI):C(Gender)     2.0  3.896517e+02    194.825838    1.495907   2.241013e-01\n",
      "Residual          8945.0  1.164990e+06    130.239248         NaN            NaN\n"
     ]
    }
   ],
   "source": [
    "# ANOVA a deux facteurs. Nb videos visionnees en fonction de Gender et HDI\n",
    "\n",
    "# import bibliothèque\n",
    "import statsmodels.formula.api as statsapi\n",
    "import statsmodels as stats\n",
    "#df_pivot_VGH = df_pivot_HDI_Gender.transpose()\n",
    "print((df[[\"Nb_Videos_Visionnees\",\"HDI\",\"Gender\"]]))\n",
    "\n",
    "# modèle OLS fitté, sans interaction\n",
    "model_ols_VGH = statsapi.ols(\"Nb_Videos_Visionnees ~ C(HDI) + C(Gender)\", data=df).fit()\n",
    "\n",
    "# modèle OLS fitté, avec interaction\n",
    "model_ols_VGH_inter = statsapi.ols(\"Nb_Videos_Visionnees ~ C(HDI) * C(Gender)\", data=df).fit()\n",
    "\n",
    "# passer le modèle ols à anova\n",
    "result_anova = stats.api.stats.anova_lm(model_ols_VGH)\n",
    "print(result_anova)\n",
    "\n",
    "result_anova_inter = stats.api.stats.anova_lm(model_ols_VGH_inter)\n",
    "print(result_anova_inter)\n"
   ]
  }
 ],
 "metadata": {
  "kernelspec": {
   "display_name": "base",
   "language": "python",
   "name": "python3"
  },
  "language_info": {
   "codemirror_mode": {
    "name": "ipython",
    "version": 3
   },
   "file_extension": ".py",
   "mimetype": "text/x-python",
   "name": "python",
   "nbconvert_exporter": "python",
   "pygments_lexer": "ipython3",
   "version": "3.10.9"
  },
  "orig_nbformat": 4
 },
 "nbformat": 4,
 "nbformat_minor": 2
}

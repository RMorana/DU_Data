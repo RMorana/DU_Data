{
 "cells": [
  {
   "cell_type": "code",
   "execution_count": 1,
   "metadata": {},
   "outputs": [],
   "source": [
    "# import des modules nécessaires\n",
    "import pandas as pd\n",
    "import matplotlib.pyplot as plt\n",
    "import seaborn as sns\n",
    "from distinctipy import distinctipy\n",
    "from matplotlib.font_manager import FontProperties\n",
    "from matplotlib import rc\n",
    "import numpy as np\n",
    "import plotly.graph_objects as go\n",
    "from plotly.subplots import make_subplots\n",
    "import ipywidgets as widgets\n",
    "from IPython.display import clear_output, display\n",
    "from scipy.stats import chi2_contingency as chi2_contingency\n",
    "import statsmodels.formula.api as statsapi\n",
    "import statsmodels as stats\n",
    "from statsmodels.formula.api import ols\n",
    "from statsmodels.stats.anova import anova_lm\n",
    "\n",
    "# Modifier les paramètres d'affichage de la sortie des commandes dans Jupyter\n",
    "pd.set_option('display.max_rows', 100)\n",
    "pd.set_option('display.max_columns', 50)\n",
    "pd.set_option('display.width', 100)\n",
    "\n",
    "# import de la police Garamond\n",
    "garamond_font = FontProperties(fname=\"C:/Windows/Fonts/GARA.TTF\",size=14)\n",
    "timesnewroman_font = FontProperties(fname=\"C:/Windows/Fonts/TIMES.TTF\",size=14)"
   ]
  },
  {
   "attachments": {},
   "cell_type": "markdown",
   "metadata": {},
   "source": [
    "import des fichiers de données et des fichiers d'url pour récupérer les champs \"Modifié le\" et Notices associée\".\n",
    "Etant donné que les résultats de recherche ne peuvent pas contenir plus de 10000 enregistrements nous avons morcellé la recherche en 4 requêtes :\n",
    "Il y a 4414 résultats qui correspondent à /France/Paris et Ile de France /Panthéon Sorbonne P1\n",
    "Il y a 6335 résultats qui correspondent à /France/Paris et Ile de France /Tout saut Paris Panthéon Sorbonne P1\n",
    "Il y a 7411 résultats qui correspondent à /France/Tout sauf Paris et Ile de France\n",
    "Il y a 60 résultats qui correspondent à /Italie, Suisse et Non Renseignés\n",
    "Soit un total de 18220 au lieu de 18217 résultats dans TRHAA.\n"
   ]
  },
  {
   "cell_type": "code",
   "execution_count": null,
   "metadata": {},
   "outputs": [],
   "source": [
    "df_data_temp_6335 = pd.read_csv(\"input/TRHAA/DATA for Fr_ParisIDF_TtSaufsorbonne_6335.xlsx\",header=0,sep=\",\", low_memory=False,encoding = \"ISO-8859-1\")\n",
    "df_data_temp_4414 = pd.read_csv(\"input/TRHAA/DATA for Fr_ParisIDF_Sorbonne_4414.xlsx\",header=0,sep=\",\", low_memory=False,encoding = \"ISO-8859-1\")\n",
    "df_data_temp_7411 = pd.read_csv(\"input/TRHAA/DATA for Fr_TtSaufParis_7411.xlsx\",header=0,sep=\",\", low_memory=False,encoding = \"ISO-8859-1\")\n",
    "df_data_temp_60 = pd.read_csv(\"input/TRHAA/DATA for TtSaufFrance_60.xlsx\",header=0,sep=\",\", low_memory=False,encoding = \"ISO-8859-1\")\n",
    "\n",
    "df_url_temp_6335 = pd.read_csv(\"input/TRHAA/URL_List_Fr_ParisIDF_TtSaufSorbonne_6335.xlsx\",header=0,sep=\",\", low_memory=False,encoding = \"ISO-8859-1\")\n",
    "df_url_temp_4414 = pd.read_csv(\"input/TRHAA/URL_List_Fr_ParisIDF_Sorbonne_4414.xlsx\",header=0,sep=\",\", low_memory=False,encoding = \"ISO-8859-1\")\n",
    "df_url_temp_7411 = pd.read_csv(\"input/TRHAA/URL_List_Fr_TtSaufParis_7411.xlsx\",header=0,sep=\",\", low_memory=False,encoding = \"ISO-8859-1\")\n",
    "df_url_temp_60 = pd.read_csv(\"input/TRHAA/URL_List_TtSaufFrance_NonRenseigne_60.xlsx\",header=0,sep=\",\", low_memory=False,encoding = \"ISO-8859-1\")\n"
   ]
  },
  {
   "attachments": {},
   "cell_type": "markdown",
   "metadata": {},
   "source": [
    "Croisement des dataframe DATA et URL sur la clé \"URL de la page\" pour avoir l'ensemble des données pour chaque"
   ]
  },
  {
   "cell_type": "code",
   "execution_count": null,
   "metadata": {},
   "outputs": [],
   "source": [
    "# Merge des fichiers\n",
    "\n",
    "# Column bind des logs et questionnaires\n",
    "df_4414_temp = pd.merge(df_data_temp_4414, df_url_temp_4414,on=['Original_URL'],how='outer',suffixes=('','_url'))\n",
    "df_6335_temp = pd.merge(df_data_temp_6335, df_url_temp_6335,on=['Original_URL'],how='outer',suffixes=('','_url'))\n",
    "df_7411_temp = pd.merge(df_data_temp_7411, df_url_temp_7411,on=['Original_URL'],how='outer',suffixes=('','_url'))\n",
    "df_60_temp = pd.merge(df_data_temp_60, df_url_temp_60,on=['Original_URL'],how='outer',suffixes=('','_url'))\n",
    "print(\"Shape de df_4414_temp: \", df_4414_temp.shape)\n",
    "print(\"shape de df_6335_temp: \", df_6335_temp.shape)\n",
    "print(\"Shape de df_7411_temp: \", df_7411_temp.shape)\n",
    "print(\"Shape de df_60_temp: \", df_60_temp.shape)"
   ]
  },
  {
   "attachments": {},
   "cell_type": "markdown",
   "metadata": {},
   "source": [
    "Le nombre de colonnes est identique entre tous les fichiers, le nombre de lignes correspond aux nombres prévus donc on peut concaténer l'ensemble des dataframes pour obtenir un seul dataframe."
   ]
  },
  {
   "cell_type": "code",
   "execution_count": null,
   "metadata": {},
   "outputs": [],
   "source": [
    "# Concaténation des dataframes\n",
    "\n",
    "df_tmp_1et2 = pd.concat([df_4414_temp,df_6335_temp], ignore_index=True)\n",
    "df_tmp_3et4=pd.concat([df_7411_temp,df_60_temp], ignore_index=True)\n",
    "df_trhaa_initial = pd.concat([df_tmp_1et2,df_tmp_3et4], ignore_index=True)\n",
    "\n",
    "# Vérification du format\n",
    "print(\"Shape de df_tmp: \", df_trhaa_initial.shape)"
   ]
  },
  {
   "attachments": {},
   "cell_type": "markdown",
   "metadata": {},
   "source": [
    "Pré-traitement des données. Analyse des colonnes qui contiennent une valeur unique pour suppression du champ ultérieurement. A priori Illustration, RoleAuteurPrincipal\n",
    "\n",
    "Comparaison des champs SoutenanceDateDebut et SoutenanceDateFin. Si identiques on n'en conserve qu'une seule.\n",
    "Idem pour les champs TitreOuvrage et Titre\n"
   ]
  },
  {
   "cell_type": "code",
   "execution_count": 31,
   "metadata": {},
   "outputs": [
    {
     "name": "stdout",
     "output_type": "stream",
     "text": [
      "False\n"
     ]
    }
   ],
   "source": [
    "# Analyse colonnes si valeurs uniques\n",
    "#print(df_trhaa_initial[\"Illustration\"].groupby().count) # Champ Illustration\n",
    "#print(df_trhaa_initial[\"RoleAuteurPrincipal\"].groupby().count) # Champ RoleAuteurPrincipal\n",
    "\n",
    "# copie de df_trhaa_initial en df_trhaa_tmp pour le traitement\n",
    "df_trhaa_tmp = df_trhaa_initial\n",
    "\n",
    "# Comparaison des champs SoutenanceDateDebut et Fin\n",
    "df_comp1 = (df_trhaa_tmp[\"SoutenanceDateDebut\"]==df_trhaa_tmp[\"SoutenanceDateFin\"])\n",
    "print(df_comp1.columns)\n",
    "print(df_comp1[\"\"].all())\n",
    "\n",
    "if (df_comp1[\"\"].all()) == \"True\":\n",
    "    print(\"les colonnes SoutenanceDateDebut et SoutenanceDateFin sont égales\")\n",
    "else:\n",
    "    print(\"elles sont différentes\")\n",
    "\n",
    "# Comparaison des champs TitreOuvrage et Titre\n",
    "df_comp2 = (df_trhaa_tmp[\"TitreOuvrage\"]==df_trhaa_tmp[\"Titre\"])\n",
    "print(df_comp2.columns)\n",
    "print(df_comp2[\"\"].all())\n",
    "\n",
    "#if (df_comp2[\"\"].all()) == \"True\":\n",
    "#    print(\"les colonnes Titre et TitreOuvrage sont égales\")\n",
    "#else:\n",
    "#    print(\"elles sont différentes\")\n",
    "\n",
    "# Nettoyage des champs inutiles pour obtenir df_trhaa_initial\n",
    "#df_trhaa_initial_v2 = df_trhaa_initial.drop(['Illustration','RoleAuteurPrincipal','Titre','SoutenanceDateFin'])\n",
    "\n",
    "# Renommage colonne SoutenanceDateDebut\n",
    "#df_trhaa_initial_v2.rename(columns={'SoutenanceDateDebut':'DateSoutenance'})"
   ]
  }
 ],
 "metadata": {
  "kernelspec": {
   "display_name": "base",
   "language": "python",
   "name": "python3"
  },
  "language_info": {
   "codemirror_mode": {
    "name": "ipython",
    "version": 3
   },
   "file_extension": ".py",
   "mimetype": "text/x-python",
   "name": "python",
   "nbconvert_exporter": "python",
   "pygments_lexer": "ipython3",
   "version": "3.10.9"
  },
  "orig_nbformat": 4
 },
 "nbformat": 4,
 "nbformat_minor": 2
}

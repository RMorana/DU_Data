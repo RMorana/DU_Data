{
 "cells": [
  {
   "attachments": {},
   "cell_type": "markdown",
   "metadata": {},
   "source": [
    "<H1> Projet 1 - SQL"
   ]
  },
  {
   "attachments": {},
   "cell_type": "markdown",
   "metadata": {},
   "source": [
    "<H3>Exercices du cours \"Intermediate SQL\"</H3>\n",
    "\n",
    "1. Quelle est la durée du plus court film produit entre 1942 et 1968 inclus ?  \n",
    "\n",
    "SELECT duration  \n",
    "FROM cinema.films  \n",
    "WHERE release_year BETWEEN 1942 AND 1968  \n",
    "ORDER BY duration ASC  \n",
    "LIMIT 5;  \n",
    "\n",
    "Réponse : 68  \n",
    "\n",
    "2. Quelle est la durée moyenne des films réalisés entre 1954 et 1967 inclus ?  \n",
    "\n",
    "SELECT ROUND(AVG(duration),0) AS avg_duration  \n",
    "FROM cinema.films  \n",
    "WHERE release_year BETWEEN 1954 AND 1967;  \n",
    "\n",
    "Réponse : 133 minutes  \n",
    "\n",
    "3. Sur la période 1960-1970 (inclus) combien de langues distinctes ont elles été utilisées dans les films ?  \n",
    "\n",
    "SELECT COUNT(DISTINCT language) AS count_distinct_language  \n",
    "FROM cinema.films  \n",
    "WHERE release_year BETWEEN 1960 AND 1970;  \n",
    "\n",
    "Résultat : 4  \n",
    "\n",
    "4. Comptez combien de films ont été produits après les années 2000 en Français ou en Espagnol  \n",
    "\n",
    "SELECT COUNT(title) AS count_title  \n",
    "FROM cinema.films  \n",
    "WHERE language IN ('French', 'Spanish')  \n",
    "AND release_year>2000;  \n",
    "\n",
    "Résultat : 95  \n",
    "\n",
    "5. Identifiez le film en langue Française ayant le plus rapporté d'argent entre 1990 et 1999 inclus  \n",
    "\n",
    "SELECT title, MAX(gross) AS max_gross, language  \n",
    "FROM cinema.films  \n",
    "WHERE release_year BETWEEN 1990 AND 1999  \n",
    "GROUP BY language, title  \n",
    "HAVING language='French'  \n",
    "ORDER BY max_gross DESC  \n",
    "LIMIT 1;  \n",
    "\n",
    "Résultat : The Red Violin, Gross=9473382  \n",
    "\n",
    "6. Donnez 5 films en Anglais commencant par la lettre Z, toutes époques confondues  \n",
    "\n",
    "SELECT cinema.films.title  \n",
    "FROM cinema.films  \n",
    "WHERE language='English'  \n",
    "AND title LIKE 'Z%'  \n",
    "LIMIT 5;  \n",
    "\n",
    "Résultat :  \n",
    "\t\n",
    "Zero Effect  \n",
    "Zoolander  \n",
    "Zathura: A Space Adventure  \n",
    "Zoom  \n",
    "Zodiac  \n",
    "\n"
   ]
  }
 ],
 "metadata": {
  "kernelspec": {
   "display_name": "base",
   "language": "python",
   "name": "python3"
  },
  "language_info": {
   "name": "python",
   "version": "3.10.9"
  },
  "orig_nbformat": 4
 },
 "nbformat": 4,
 "nbformat_minor": 2
}

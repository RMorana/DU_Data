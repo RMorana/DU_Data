{
 "cells": [
  {
   "cell_type": "code",
   "execution_count": 25,
   "metadata": {},
   "outputs": [
    {
     "name": "stdout",
     "output_type": "stream",
     "text": [
      "/Library/Fonts/GaramondPremrPro.otf\n"
     ]
    }
   ],
   "source": [
    "# import des modules nécessaires\n",
    "import pandas as pd\n",
    "import matplotlib\n",
    "import matplotlib.pyplot as plt\n",
    "import seaborn as sns\n",
    "import missingno as msno\n",
    "import matplotlib.patches as mpatches\n",
    "from distinctipy import distinctipy\n",
    "from matplotlib.font_manager import FontProperties\n",
    "from matplotlib import rc\n",
    "import numpy as np\n",
    "import plotly.graph_objects as go\n",
    "from plotly.subplots import make_subplots\n",
    "import ipywidgets as widgets\n",
    "from IPython.display import clear_output, display\n",
    "from scipy.stats import chi2_contingency as chi2_contingency\n",
    "import statsmodels.formula.api as statsapi\n",
    "import statsmodels as stats\n",
    "from statsmodels.formula.api import ols\n",
    "from statsmodels.stats.anova import anova_lm\n",
    "import xlrd as xlrd\n",
    "from matplotlib import font_manager # for mac users\n",
    "import platform\n",
    "import os\n",
    "from sklearn.decomposition import PCA\n",
    "\n",
    "# Modifier les paramètres d'affichage de la sortie des commandes dans Jupyter\n",
    "pd.set_option('display.max_rows', 100)\n",
    "pd.set_option('display.max_columns', 50)\n",
    "pd.set_option('display.width', 100)\n",
    "\n",
    "# Pour lister les polices présentes\n",
    "#fpaths = matplotlib.font_manager.findSystemFonts()\n",
    "#for i in fpaths:\n",
    "#    f = matplotlib.font_manager.get_font(i)\n",
    "#    print(f.family_name)\n",
    "# import de la police Garamond\n",
    "\n",
    "system = platform.system()\n",
    "\n",
    "if system == 'Darwin':  # macOS\n",
    "  font_path = '/Library/Fonts/GaramondPremrPro.otf'\n",
    "elif system == 'Windows':\n",
    "  font_path = 'C:/Windows/Fonts/GARA.TTF'\n",
    "else:  #  unix\n",
    "  font_path = 'GARA.TTF'\n",
    "print(font_path)\n",
    "\n",
    "garamond_font = FontProperties(fname=\"/Library/Fonts/GaramondPremrPro.otf\",size=14)\n",
    "#    timesnewroman_font = FontProperties(fname=\"C:/Windows/Fonts/TIMES.TTF\",size=14)\n",
    "\n",
    "font_manager.findSystemFonts(fontpaths=font_path, fontext=\"ttf\")\n",
    "font_manager.findfont(\"Garamond Premier Pro\") \n",
    "\n",
    "# Définissez la police par défaut pour toute la figure\n",
    "matplotlib.rcParams['font.family'] = 'Garamond Premier Pro'"
   ]
  },
  {
   "cell_type": "code",
   "execution_count": 28,
   "metadata": {},
   "outputs": [
    {
     "name": "stdout",
     "output_type": "stream",
     "text": [
      "3478820008235\n",
      "Jardin Bio,Léa Nature\n"
     ]
    }
   ],
   "source": [
    "# Get some datas\n",
    "\n",
    "# Connexion à l'API Python\n",
    "import json\n",
    "import requests\n",
    "#import openfoodfacts\n",
    "\n",
    "# Création des urls produits\n",
    "url1 = \"https://fr.openfoodfacts.org/api/v0/produit/3478820008235.json\"\n",
    "\n",
    "infos_produit = requests.get(url1)\n",
    "data=json.loads(infos_produit.text)\n",
    "\n",
    "print(data[\"code\"])\n",
    "print(data[\"product\"][\"brands\"])\n"
   ]
  },
  {
   "cell_type": "code",
   "execution_count": 29,
   "metadata": {},
   "outputs": [
    {
     "ename": "ImportError",
     "evalue": "cannot import name 'deprecated' from 'typing_extensions' (/Users/delphine/Applications/anaconda3/lib/python3.10/site-packages/typing_extensions.py)",
     "output_type": "error",
     "traceback": [
      "\u001b[0;31m---------------------------------------------------------------------------\u001b[0m",
      "\u001b[0;31mImportError\u001b[0m                               Traceback (most recent call last)",
      "Cell \u001b[0;32mIn[29], line 3\u001b[0m\n\u001b[1;32m      1\u001b[0m \u001b[39m# Utilisation de l'API Openfoodfacts\u001b[39;00m\n\u001b[0;32m----> 3\u001b[0m \u001b[39mfrom\u001b[39;00m \u001b[39mopenfoodfacts\u001b[39;00m \u001b[39mimport\u001b[39;00m API, APIVersion, Country, Environment, Flavor\n\u001b[1;32m      5\u001b[0m api \u001b[39m=\u001b[39m API(\n\u001b[1;32m      6\u001b[0m     username\u001b[39m=\u001b[39m\u001b[39mNone\u001b[39;00m,\n\u001b[1;32m      7\u001b[0m     password\u001b[39m=\u001b[39m\u001b[39mNone\u001b[39;00m,\n\u001b[0;32m   (...)\u001b[0m\n\u001b[1;32m     11\u001b[0m     environment\u001b[39m=\u001b[39mEnvironment\u001b[39m.\u001b[39morg,\n\u001b[1;32m     12\u001b[0m )\n\u001b[1;32m     14\u001b[0m code \u001b[39m=\u001b[39m \u001b[39m\"\u001b[39m\u001b[39m3017620422003\u001b[39m\u001b[39m\"\u001b[39m\n",
      "File \u001b[0;32m~/Applications/anaconda3/lib/python3.10/site-packages/openfoodfacts/__init__.py:1\u001b[0m\n\u001b[0;32m----> 1\u001b[0m \u001b[39mfrom\u001b[39;00m \u001b[39m.\u001b[39;00m\u001b[39mapi\u001b[39;00m \u001b[39mimport\u001b[39;00m API\n\u001b[1;32m      2\u001b[0m \u001b[39mfrom\u001b[39;00m \u001b[39m.\u001b[39;00m\u001b[39mdataset\u001b[39;00m \u001b[39mimport\u001b[39;00m ProductDataset, get_dataset\n\u001b[1;32m      3\u001b[0m \u001b[39mfrom\u001b[39;00m \u001b[39m.\u001b[39;00m\u001b[39mocr\u001b[39;00m \u001b[39mimport\u001b[39;00m OCRResult\n",
      "File \u001b[0;32m~/Applications/anaconda3/lib/python3.10/site-packages/openfoodfacts/api.py:5\u001b[0m\n\u001b[1;32m      1\u001b[0m \u001b[39mfrom\u001b[39;00m \u001b[39mtyping\u001b[39;00m \u001b[39mimport\u001b[39;00m Any, Dict, List, Optional, Tuple, Union\n\u001b[1;32m      3\u001b[0m \u001b[39mimport\u001b[39;00m \u001b[39mrequests\u001b[39;00m\n\u001b[0;32m----> 5\u001b[0m \u001b[39mfrom\u001b[39;00m \u001b[39m.\u001b[39;00m\u001b[39mtypes\u001b[39;00m \u001b[39mimport\u001b[39;00m APIConfig, APIVersion, Country, Environment, Facet, Flavor\n\u001b[1;32m      6\u001b[0m \u001b[39mfrom\u001b[39;00m \u001b[39m.\u001b[39;00m\u001b[39mutils\u001b[39;00m \u001b[39mimport\u001b[39;00m URLBuilder, http_session\n\u001b[1;32m      9\u001b[0m \u001b[39mdef\u001b[39;00m \u001b[39mget_http_auth\u001b[39m(environment: Environment) \u001b[39m-\u001b[39m\u001b[39m>\u001b[39m Optional[Tuple[\u001b[39mstr\u001b[39m, \u001b[39mstr\u001b[39m]]:\n",
      "File \u001b[0;32m~/Applications/anaconda3/lib/python3.10/site-packages/openfoodfacts/types.py:4\u001b[0m\n\u001b[1;32m      1\u001b[0m \u001b[39mimport\u001b[39;00m \u001b[39menum\u001b[39;00m\n\u001b[1;32m      2\u001b[0m \u001b[39mfrom\u001b[39;00m \u001b[39mtyping\u001b[39;00m \u001b[39mimport\u001b[39;00m Any, Dict, Optional\n\u001b[0;32m----> 4\u001b[0m \u001b[39mfrom\u001b[39;00m \u001b[39mpydantic\u001b[39;00m \u001b[39mimport\u001b[39;00m BaseModel\n\u001b[1;32m      6\u001b[0m \u001b[39m#: A precise expectation of what mappings looks like in json.\u001b[39;00m\n\u001b[1;32m      7\u001b[0m \u001b[39m#: (dict where keys are always of type `str`).\u001b[39;00m\n\u001b[1;32m      8\u001b[0m JSONType \u001b[39m=\u001b[39m Dict[\u001b[39mstr\u001b[39m, Any]\n",
      "File \u001b[0;32m~/Applications/anaconda3/lib/python3.10/site-packages/pydantic/__init__.py:3\u001b[0m\n\u001b[1;32m      1\u001b[0m \u001b[39mimport\u001b[39;00m \u001b[39mtyping\u001b[39;00m\n\u001b[0;32m----> 3\u001b[0m \u001b[39mimport\u001b[39;00m \u001b[39mpydantic_core\u001b[39;00m\n\u001b[1;32m      4\u001b[0m \u001b[39mfrom\u001b[39;00m \u001b[39mpydantic_core\u001b[39;00m\u001b[39m.\u001b[39;00m\u001b[39mcore_schema\u001b[39;00m \u001b[39mimport\u001b[39;00m (\n\u001b[1;32m      5\u001b[0m     FieldSerializationInfo,\n\u001b[1;32m      6\u001b[0m     SerializationInfo,\n\u001b[0;32m   (...)\u001b[0m\n\u001b[1;32m      9\u001b[0m     ValidatorFunctionWrapHandler,\n\u001b[1;32m     10\u001b[0m )\n\u001b[1;32m     12\u001b[0m \u001b[39mfrom\u001b[39;00m \u001b[39m.\u001b[39;00m \u001b[39mimport\u001b[39;00m dataclasses\n",
      "File \u001b[0;32m~/Applications/anaconda3/lib/python3.10/site-packages/pydantic_core/__init__.py:29\u001b[0m\n\u001b[1;32m      4\u001b[0m \u001b[39mfrom\u001b[39;00m \u001b[39mtyping\u001b[39;00m \u001b[39mimport\u001b[39;00m Any \u001b[39mas\u001b[39;00m _Any\n\u001b[1;32m      6\u001b[0m \u001b[39mfrom\u001b[39;00m \u001b[39m.\u001b[39;00m\u001b[39m_pydantic_core\u001b[39;00m \u001b[39mimport\u001b[39;00m (\n\u001b[1;32m      7\u001b[0m     ArgsKwargs,\n\u001b[1;32m      8\u001b[0m     MultiHostUrl,\n\u001b[0;32m   (...)\u001b[0m\n\u001b[1;32m     27\u001b[0m     validate_core_schema,\n\u001b[1;32m     28\u001b[0m )\n\u001b[0;32m---> 29\u001b[0m \u001b[39mfrom\u001b[39;00m \u001b[39m.\u001b[39;00m\u001b[39mcore_schema\u001b[39;00m \u001b[39mimport\u001b[39;00m CoreConfig, CoreSchema, CoreSchemaType, ErrorType\n\u001b[1;32m     31\u001b[0m \u001b[39mif\u001b[39;00m _sys\u001b[39m.\u001b[39mversion_info \u001b[39m<\u001b[39m (\u001b[39m3\u001b[39m, \u001b[39m11\u001b[39m):\n\u001b[1;32m     32\u001b[0m     \u001b[39mfrom\u001b[39;00m \u001b[39mtyping_extensions\u001b[39;00m \u001b[39mimport\u001b[39;00m NotRequired \u001b[39mas\u001b[39;00m _NotRequired\n",
      "File \u001b[0;32m~/Applications/anaconda3/lib/python3.10/site-packages/pydantic_core/core_schema.py:15\u001b[0m\n\u001b[1;32m     12\u001b[0m \u001b[39mfrom\u001b[39;00m \u001b[39mdecimal\u001b[39;00m \u001b[39mimport\u001b[39;00m Decimal\n\u001b[1;32m     13\u001b[0m \u001b[39mfrom\u001b[39;00m \u001b[39mtyping\u001b[39;00m \u001b[39mimport\u001b[39;00m TYPE_CHECKING, Any, Callable, Dict, Hashable, List, Set, Tuple, Type, Union\n\u001b[0;32m---> 15\u001b[0m \u001b[39mfrom\u001b[39;00m \u001b[39mtyping_extensions\u001b[39;00m \u001b[39mimport\u001b[39;00m deprecated\n\u001b[1;32m     17\u001b[0m \u001b[39mif\u001b[39;00m sys\u001b[39m.\u001b[39mversion_info \u001b[39m<\u001b[39m (\u001b[39m3\u001b[39m, \u001b[39m12\u001b[39m):\n\u001b[1;32m     18\u001b[0m     \u001b[39mfrom\u001b[39;00m \u001b[39mtyping_extensions\u001b[39;00m \u001b[39mimport\u001b[39;00m TypedDict\n",
      "\u001b[0;31mImportError\u001b[0m: cannot import name 'deprecated' from 'typing_extensions' (/Users/delphine/Applications/anaconda3/lib/python3.10/site-packages/typing_extensions.py)"
     ]
    }
   ],
   "source": [
    "# Utilisation de l'API Openfoodfacts\n",
    "\n",
    "from openfoodfacts import API, APIVersion, Country, Environment, Flavor\n",
    "\n",
    "api = API(\n",
    "    username=None,\n",
    "    password=None,\n",
    "    country=Country.world,\n",
    "    flavor=Flavor.off,\n",
    "    version=\"APIVersion.v2\",\n",
    "    environment=Environment.org,\n",
    ")\n",
    "\n",
    "code = \"3017620422003\"\n",
    "api.product.get(code)"
   ]
  }
 ],
 "metadata": {
  "kernelspec": {
   "display_name": "base",
   "language": "python",
   "name": "python3"
  },
  "language_info": {
   "codemirror_mode": {
    "name": "ipython",
    "version": 3
   },
   "file_extension": ".py",
   "mimetype": "text/x-python",
   "name": "python",
   "nbconvert_exporter": "python",
   "pygments_lexer": "ipython3",
   "version": "3.10.9"
  },
  "orig_nbformat": 4
 },
 "nbformat": 4,
 "nbformat_minor": 2
}

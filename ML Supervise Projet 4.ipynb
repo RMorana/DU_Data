{
 "cells": [
  {
   "cell_type": "code",
   "execution_count": 20,
   "metadata": {},
   "outputs": [
    {
     "name": "stdout",
     "output_type": "stream",
     "text": [
      "Windows\n",
      "C:/Windows/Fonts/Garamond.TTF\n"
     ]
    }
   ],
   "source": [
    "# import des modules nécessaires\n",
    "import pandas as pd\n",
    "import matplotlib\n",
    "import matplotlib.pyplot as plt\n",
    "import seaborn as sns\n",
    "import missingno as msno\n",
    "import matplotlib.patches as mpatches\n",
    "from distinctipy import distinctipy\n",
    "from matplotlib.font_manager import FontProperties\n",
    "from matplotlib import rc\n",
    "import numpy as np\n",
    "import plotly.graph_objects as go\n",
    "from plotly.subplots import make_subplots\n",
    "import ipywidgets as widgets\n",
    "from IPython.display import clear_output, display\n",
    "from scipy.stats import chi2_contingency as chi2_contingency\n",
    "import statsmodels.formula.api as statsapi\n",
    "import statsmodels as stats\n",
    "from statsmodels.formula.api import ols\n",
    "from statsmodels.stats.anova import anova_lm\n",
    "import xlrd as xlrd\n",
    "from matplotlib import font_manager # for mac users\n",
    "import platform\n",
    "import os\n",
    "from sklearn.decomposition import PCA\n",
    "\n",
    "# Modifier les paramètres d'affichage de la sortie des commandes dans Jupyter\n",
    "pd.set_option('display.max_rows', 100)\n",
    "pd.set_option('display.max_columns', 50)\n",
    "pd.set_option('display.width', 100)\n",
    "\n",
    "# Pour lister les polices présentes\n",
    "#fpaths = matplotlib.font_manager.findSystemFonts()\n",
    "#for i in fpaths:\n",
    "#    f = matplotlib.font_manager.get_font(i)\n",
    "#    print(f.family_name)\n",
    "# import de la police Garamond\n",
    "\n",
    "system = platform.system()\n",
    "print(system)\n",
    "if system == 'Darwin':  # macOS\n",
    "  font_path = '/Library/Fonts/GaramondPremrPro.otf'\n",
    "elif system == 'Windows':\n",
    "  font_path = 'C:/Windows/Fonts/Garamond.TTF'\n",
    "else:  #  unix\n",
    "  font_path = 'GARA.TTF'\n",
    "print(font_path)\n",
    "\n",
    "garamond_font = FontProperties(fname=\"/Library/Fonts/GaramondPremrPro.otf\",size=14) # for MAC\n",
    "garamond_font = FontProperties(fname=\"/Library/Fonts/Garamond.otf\",size=14) # for WINDOWS\n",
    "\n",
    "#    timesnewroman_font = FontProperties(fname=\"C:/Windows/Fonts/TIMES.TTF\",size=14)\n",
    "\n",
    "font_manager.findSystemFonts(fontpaths=font_path, fontext=\"ttf\")\n",
    "font_manager.findfont(\"Garamond\") \n",
    "\n",
    "# Définissez la police par défaut pour toute la figure\n",
    "matplotlib.rcParams['font.family'] = 'Garamond'"
   ]
  },
  {
   "cell_type": "code",
   "execution_count": 21,
   "metadata": {},
   "outputs": [
    {
     "name": "stdout",
     "output_type": "stream",
     "text": [
      "<class 'pandas.core.frame.DataFrame'>\n",
      "RangeIndex: 583 entries, 0 to 582\n",
      "Data columns (total 11 columns):\n",
      " #   Column                      Non-Null Count  Dtype  \n",
      "---  ------                      --------------  -----  \n",
      " 0   Age of the patient          583 non-null    int64  \n",
      " 1   Gender of the patient       583 non-null    int64  \n",
      " 2   Total Bilirubin             583 non-null    float64\n",
      " 3   Direct Bilirubin            583 non-null    float64\n",
      " 4   Alkaline Phosphotase        583 non-null    int64  \n",
      " 5   Alamine Aminotransferase    583 non-null    int64  \n",
      " 6   Aspartate Aminotransferase  583 non-null    int64  \n",
      " 7   Total Protiens              583 non-null    float64\n",
      " 8   Albumin                     583 non-null    float64\n",
      " 9   Albumin and Globulin Ratio  579 non-null    float64\n",
      " 10  Dataset                     583 non-null    int64  \n",
      "dtypes: float64(5), int64(6)\n",
      "memory usage: 50.2 KB\n"
     ]
    }
   ],
   "source": [
    "# Chargement des données PINGOUIN\n",
    "df_indian_leaver_patient = pd.read_table(\"input/mlsupervise/indian_liver_patient.csv\",sep=\",\")\n",
    "\n",
    "features_names = [\n",
    "                    \"Age of the patient\",\n",
    "                    \"Gender of the patient\",\n",
    "                    \"Total Bilirubin\",\n",
    "                    \"Direct Bilirubin\",\n",
    "                    \"Alkaline Phosphotase\",\n",
    "                    \"Alamine Aminotransferase\",\n",
    "                    \"Aspartate Aminotransferase\",\n",
    "                    \"Total Protiens\",\n",
    "                    \"Albumin\",\n",
    "                    \"Albumin and Globulin Ratio\"\n",
    "                ]\n",
    "class_names = [\"Dataset\"]\n",
    "\n",
    "# Ajout titre colonnes\n",
    "df_indian_leaver_patient.columns=features_names + class_names\n",
    "#print(df_indian_leaver_patient.head(5))\n",
    "\n",
    "df_indian_leaver_patient.shape\n",
    "\n",
    "# modification Genre M = 1, Genre F = 0 pour n'avoir que des int ou des float dans les features\n",
    "\n",
    "df_indian_leaver_patient[\"Gender of the patient\"].replace([\"Male\",\"Female\"],[1,0], inplace=True)\n",
    "df_indian_leaver_patient.info()"
   ]
  },
  {
   "cell_type": "code",
   "execution_count": 22,
   "metadata": {},
   "outputs": [
    {
     "name": "stdout",
     "output_type": "stream",
     "text": [
      "y :\n",
      "    Dataset\n",
      "0        1\n",
      "1        1\n",
      "2        1\n",
      "3        1\n",
      "4        1\n",
      "X:\n",
      "    Age of the patient  Gender of the patient  Total Bilirubin  Direct Bilirubin  \\\n",
      "0                  65                      0              0.7               0.1   \n",
      "1                  62                      1             10.9               5.5   \n",
      "2                  62                      1              7.3               4.1   \n",
      "3                  58                      1              1.0               0.4   \n",
      "4                  72                      1              3.9               2.0   \n",
      "\n",
      "   Alkaline Phosphotase  Alamine Aminotransferase  Aspartate Aminotransferase  \n",
      "0                   187                        16                          18  \n",
      "1                   699                        64                         100  \n",
      "2                   490                        60                          68  \n",
      "3                   182                        14                          20  \n",
      "4                   195                        27                          59  \n",
      "X_train  (466, 10)\n",
      "X_test  (117, 10)\n",
      "y_train  (466, 1)\n",
      "y_test  (117, 1)\n"
     ]
    }
   ],
   "source": [
    "# Jeu d'entrainement, 80% des données\n",
    "\n",
    "# import des librairies\n",
    "from sklearn.model_selection import train_test_split\n",
    "y=pd.DataFrame()\n",
    "y[\"Dataset\"]=df_indian_leaver_patient[\"Dataset\"]\n",
    "print(\"y :\\n\", y.head(5))\n",
    "X=df_indian_leaver_patient.drop(columns={\"Dataset\"})\n",
    "print(\"X:\\n\",X.iloc[:,0:7].head(5))\n",
    "\n",
    "\n",
    "# Split du jeu de données\n",
    "X_train, X_test, y_train, y_test = train_test_split(X,y, test_size=0.2, random_state=1, shuffle=False, stratify=None)\n",
    "\n",
    "print(\"X_train \", X_train.shape)\n",
    "print(\"X_test \", X_test.shape)\n",
    "print(\"y_train \", y_train.shape)\n",
    "print(\"y_test \", y_test.shape)"
   ]
  }
 ],
 "metadata": {
  "kernelspec": {
   "display_name": "base",
   "language": "python",
   "name": "python3"
  },
  "language_info": {
   "codemirror_mode": {
    "name": "ipython",
    "version": 3
   },
   "file_extension": ".py",
   "mimetype": "text/x-python",
   "name": "python",
   "nbconvert_exporter": "python",
   "pygments_lexer": "ipython3",
   "version": "3.10.4"
  },
  "orig_nbformat": 4
 },
 "nbformat": 4,
 "nbformat_minor": 2
}

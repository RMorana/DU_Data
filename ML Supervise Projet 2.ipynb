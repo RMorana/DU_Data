{
 "cells": [
  {
   "cell_type": "code",
   "execution_count": 62,
   "metadata": {},
   "outputs": [
    {
     "name": "stdout",
     "output_type": "stream",
     "text": [
      "Windows\n",
      "C:/Windows/Fonts/Garamond.TTF\n"
     ]
    }
   ],
   "source": [
    "# import des modules nécessaires\n",
    "import pandas as pd\n",
    "import matplotlib\n",
    "import matplotlib.pyplot as plt\n",
    "import seaborn as sns\n",
    "import missingno as msno\n",
    "import matplotlib.patches as mpatches\n",
    "from distinctipy import distinctipy\n",
    "from matplotlib.font_manager import FontProperties\n",
    "from matplotlib import rc\n",
    "import numpy as np\n",
    "import plotly.graph_objects as go\n",
    "from plotly.subplots import make_subplots\n",
    "import ipywidgets as widgets\n",
    "from IPython.display import clear_output, display\n",
    "from scipy.stats import chi2_contingency as chi2_contingency\n",
    "import statsmodels.formula.api as statsapi\n",
    "import statsmodels as stats\n",
    "from statsmodels.formula.api import ols\n",
    "from statsmodels.stats.anova import anova_lm\n",
    "import xlrd as xlrd\n",
    "from matplotlib import font_manager # for mac users\n",
    "import platform\n",
    "import os\n",
    "from sklearn.decomposition import PCA\n",
    "\n",
    "# Modifier les paramètres d'affichage de la sortie des commandes dans Jupyter\n",
    "pd.set_option('display.max_rows', 100)\n",
    "pd.set_option('display.max_columns', 50)\n",
    "pd.set_option('display.width', 100)\n",
    "\n",
    "# Pour lister les polices présentes\n",
    "#fpaths = matplotlib.font_manager.findSystemFonts()\n",
    "#for i in fpaths:\n",
    "#    f = matplotlib.font_manager.get_font(i)\n",
    "#    print(f.family_name)\n",
    "# import de la police Garamond\n",
    "\n",
    "system = platform.system()\n",
    "print(system)\n",
    "if system == 'Darwin':  # macOS\n",
    "  font_path = '/Library/Fonts/GaramondPremrPro.otf'\n",
    "elif system == 'Windows':\n",
    "  font_path = 'C:/Windows/Fonts/Garamond.TTF'\n",
    "else:  #  unix\n",
    "  font_path = 'GARA.TTF'\n",
    "print(font_path)\n",
    "\n",
    "garamond_font = FontProperties(fname=\"/Library/Fonts/GaramondPremrPro.otf\",size=14) # for MAC\n",
    "garamond_font = FontProperties(fname=\"/Library/Fonts/Garamond.otf\",size=14) # for WINDOWS\n",
    "\n",
    "#    timesnewroman_font = FontProperties(fname=\"C:/Windows/Fonts/TIMES.TTF\",size=14)\n",
    "\n",
    "font_manager.findSystemFonts(fontpaths=font_path, fontext=\"ttf\")\n",
    "font_manager.findfont(\"Garamond Premier Pro\") \n",
    "\n",
    "# Définissez la police par défaut pour toute la figure\n",
    "matplotlib.rcParams['font.family'] = 'Garamond'"
   ]
  },
  {
   "cell_type": "code",
   "execution_count": 109,
   "metadata": {},
   "outputs": [
    {
     "name": "stdout",
     "output_type": "stream",
     "text": [
      "Index(['842302', 'M', '17.99', '10.38', '122.8', '1001', '0.1184', '0.2776', '0.3001', '0.1471',\n",
      "       '0.2419', '0.07871', '1.095', '0.9053', '8.589', '153.4', '0.006399', '0.04904', '0.05373',\n",
      "       '0.01587', '0.03003', '0.006193', '25.38', '17.33', '184.6', '2019', '0.1622', '0.6656',\n",
      "       '0.7119', '0.2654', '0.4601', '0.1189'],\n",
      "      dtype='object')\n",
      "<class 'pandas.core.frame.DataFrame'>\n",
      "(568, 32)\n"
     ]
    }
   ],
   "source": [
    "# Chargement des données CANCER DU SEIN\n",
    "df_bc_data = pd.read_table(\"input/mlsupervise/wdbc.data\",sep=\",\")\n",
    "#df_bc_names = pd.read_table(\"input/mlsupervise/wdbc.names\",sep=\",\")\n",
    "\n",
    "# Ajout titre colonnes\n",
    "#df_pingouin.columns=[\"species\",\"island\",\"culmen_length_mm\",\"culmen_depth_mm\",\"flipper_length_mm\",\"body_mass_g\",\"sex\"]\n",
    "\n",
    "# Verif données\n",
    "print(df_bc_data.columns)\n",
    "#print(df_bc_data.isna().count())\n",
    "print(type(df_bc_data))\n",
    "print(df_bc_data.shape)\n",
    "\n",
    "# ==> Pas de valeurs manquantes"
   ]
  },
  {
   "attachments": {},
   "cell_type": "markdown",
   "metadata": {},
   "source": [
    "Projet 2. Le cancer du sein"
   ]
  },
  {
   "cell_type": "code",
   "execution_count": 112,
   "metadata": {},
   "outputs": [
    {
     "name": "stdout",
     "output_type": "stream",
     "text": [
      "       842302  M  17.99  10.38   122.8    1001   0.1184   0.2776   0.3001   0.1471  0.2419  \\\n",
      "0      842517  M  20.57  17.77  132.90  1326.0  0.08474  0.07864  0.08690  0.07017  0.1812   \n",
      "1    84300903  M  19.69  21.25  130.00  1203.0  0.10960  0.15990  0.19740  0.12790  0.2069   \n",
      "2    84348301  M  11.42  20.38   77.58   386.1  0.14250  0.28390  0.24140  0.10520  0.2597   \n",
      "3    84358402  M  20.29  14.34  135.10  1297.0  0.10030  0.13280  0.19800  0.10430  0.1809   \n",
      "4      843786  M  12.45  15.70   82.57   477.1  0.12780  0.17000  0.15780  0.08089  0.2087   \n",
      "..        ... ..    ...    ...     ...     ...      ...      ...      ...      ...     ...   \n",
      "563    926424  M  21.56  22.39  142.00  1479.0  0.11100  0.11590  0.24390  0.13890  0.1726   \n",
      "564    926682  M  20.13  28.25  131.20  1261.0  0.09780  0.10340  0.14400  0.09791  0.1752   \n",
      "565    926954  M  16.60  28.08  108.30   858.1  0.08455  0.10230  0.09251  0.05302  0.1590   \n",
      "566    927241  M  20.60  29.33  140.10  1265.0  0.11780  0.27700  0.35140  0.15200  0.2397   \n",
      "567     92751  B   7.76  24.54   47.92   181.0  0.05263  0.04362  0.00000  0.00000  0.1587   \n",
      "\n",
      "     0.07871   1.095  0.9053  8.589   153.4  0.006399  0.04904  0.05373  0.01587  0.03003  \\\n",
      "0    0.05667  0.5435  0.7339  3.398   74.08  0.005225  0.01308  0.01860  0.01340  0.01389   \n",
      "1    0.05999  0.7456  0.7869  4.585   94.03  0.006150  0.04006  0.03832  0.02058  0.02250   \n",
      "2    0.09744  0.4956  1.1560  3.445   27.23  0.009110  0.07458  0.05661  0.01867  0.05963   \n",
      "3    0.05883  0.7572  0.7813  5.438   94.44  0.011490  0.02461  0.05688  0.01885  0.01756   \n",
      "4    0.07613  0.3345  0.8902  2.217   27.19  0.007510  0.03345  0.03672  0.01137  0.02165   \n",
      "..       ...     ...     ...    ...     ...       ...      ...      ...      ...      ...   \n",
      "563  0.05623  1.1760  1.2560  7.673  158.70  0.010300  0.02891  0.05198  0.02454  0.01114   \n",
      "564  0.05533  0.7655  2.4630  5.203   99.04  0.005769  0.02423  0.03950  0.01678  0.01898   \n",
      "565  0.05648  0.4564  1.0750  3.425   48.55  0.005903  0.03731  0.04730  0.01557  0.01318   \n",
      "566  0.07016  0.7260  1.5950  5.772   86.22  0.006522  0.06158  0.07117  0.01664  0.02324   \n",
      "567  0.05884  0.3857  1.4280  2.548   19.15  0.007189  0.00466  0.00000  0.00000  0.02676   \n",
      "\n",
      "     0.006193   25.38  17.33   184.6    2019   0.1622   0.6656  0.7119  0.2654  0.4601   0.1189  \n",
      "0    0.003532  24.990  23.41  158.80  1956.0  0.12380  0.18660  0.2416  0.1860  0.2750  0.08902  \n",
      "1    0.004571  23.570  25.53  152.50  1709.0  0.14440  0.42450  0.4504  0.2430  0.3613  0.08758  \n",
      "2    0.009208  14.910  26.50   98.87   567.7  0.20980  0.86630  0.6869  0.2575  0.6638  0.17300  \n",
      "3    0.005115  22.540  16.67  152.20  1575.0  0.13740  0.20500  0.4000  0.1625  0.2364  0.07678  \n",
      "4    0.005082  15.470  23.75  103.40   741.6  0.17910  0.52490  0.5355  0.1741  0.3985  0.12440  \n",
      "..        ...     ...    ...     ...     ...      ...      ...     ...     ...     ...      ...  \n",
      "563  0.004239  25.450  26.40  166.10  2027.0  0.14100  0.21130  0.4107  0.2216  0.2060  0.07115  \n",
      "564  0.002498  23.690  38.25  155.00  1731.0  0.11660  0.19220  0.3215  0.1628  0.2572  0.06637  \n",
      "565  0.003892  18.980  34.12  126.70  1124.0  0.11390  0.30940  0.3403  0.1418  0.2218  0.07820  \n",
      "566  0.006185  25.740  39.42  184.60  1821.0  0.16500  0.86810  0.9387  0.2650  0.4087  0.12400  \n",
      "567  0.002783   9.456  30.37   59.16   268.6  0.08996  0.06444  0.0000  0.0000  0.2871  0.07039  \n",
      "\n",
      "[568 rows x 32 columns]\n",
      "X:         842302  17.99  10.38   122.8    1001   0.1184   0.2776   0.3001   0.1471  0.2419  0.07871  \\\n",
      "0      842517  20.57  17.77  132.90  1326.0  0.08474  0.07864  0.08690  0.07017  0.1812  0.05667   \n",
      "1    84300903  19.69  21.25  130.00  1203.0  0.10960  0.15990  0.19740  0.12790  0.2069  0.05999   \n",
      "2    84348301  11.42  20.38   77.58   386.1  0.14250  0.28390  0.24140  0.10520  0.2597  0.09744   \n",
      "3    84358402  20.29  14.34  135.10  1297.0  0.10030  0.13280  0.19800  0.10430  0.1809  0.05883   \n",
      "4      843786  12.45  15.70   82.57   477.1  0.12780  0.17000  0.15780  0.08089  0.2087  0.07613   \n",
      "..        ...    ...    ...     ...     ...      ...      ...      ...      ...     ...      ...   \n",
      "563    926424  21.56  22.39  142.00  1479.0  0.11100  0.11590  0.24390  0.13890  0.1726  0.05623   \n",
      "564    926682  20.13  28.25  131.20  1261.0  0.09780  0.10340  0.14400  0.09791  0.1752  0.05533   \n",
      "565    926954  16.60  28.08  108.30   858.1  0.08455  0.10230  0.09251  0.05302  0.1590  0.05648   \n",
      "566    927241  20.60  29.33  140.10  1265.0  0.11780  0.27700  0.35140  0.15200  0.2397  0.07016   \n",
      "567     92751   7.76  24.54   47.92   181.0  0.05263  0.04362  0.00000  0.00000  0.1587  0.05884   \n",
      "\n",
      "      1.095  0.9053  8.589   153.4  0.006399  0.04904  0.05373  0.01587  0.03003  0.006193  \\\n",
      "0    0.5435  0.7339  3.398   74.08  0.005225  0.01308  0.01860  0.01340  0.01389  0.003532   \n",
      "1    0.7456  0.7869  4.585   94.03  0.006150  0.04006  0.03832  0.02058  0.02250  0.004571   \n",
      "2    0.4956  1.1560  3.445   27.23  0.009110  0.07458  0.05661  0.01867  0.05963  0.009208   \n",
      "3    0.7572  0.7813  5.438   94.44  0.011490  0.02461  0.05688  0.01885  0.01756  0.005115   \n",
      "4    0.3345  0.8902  2.217   27.19  0.007510  0.03345  0.03672  0.01137  0.02165  0.005082   \n",
      "..      ...     ...    ...     ...       ...      ...      ...      ...      ...       ...   \n",
      "563  1.1760  1.2560  7.673  158.70  0.010300  0.02891  0.05198  0.02454  0.01114  0.004239   \n",
      "564  0.7655  2.4630  5.203   99.04  0.005769  0.02423  0.03950  0.01678  0.01898  0.002498   \n",
      "565  0.4564  1.0750  3.425   48.55  0.005903  0.03731  0.04730  0.01557  0.01318  0.003892   \n",
      "566  0.7260  1.5950  5.772   86.22  0.006522  0.06158  0.07117  0.01664  0.02324  0.006185   \n",
      "567  0.3857  1.4280  2.548   19.15  0.007189  0.00466  0.00000  0.00000  0.02676  0.002783   \n",
      "\n",
      "      25.38  17.33   184.6    2019   0.1622   0.6656  0.7119  0.2654  0.4601   0.1189  \n",
      "0    24.990  23.41  158.80  1956.0  0.12380  0.18660  0.2416  0.1860  0.2750  0.08902  \n",
      "1    23.570  25.53  152.50  1709.0  0.14440  0.42450  0.4504  0.2430  0.3613  0.08758  \n",
      "2    14.910  26.50   98.87   567.7  0.20980  0.86630  0.6869  0.2575  0.6638  0.17300  \n",
      "3    22.540  16.67  152.20  1575.0  0.13740  0.20500  0.4000  0.1625  0.2364  0.07678  \n",
      "4    15.470  23.75  103.40   741.6  0.17910  0.52490  0.5355  0.1741  0.3985  0.12440  \n",
      "..      ...    ...     ...     ...      ...      ...     ...     ...     ...      ...  \n",
      "563  25.450  26.40  166.10  2027.0  0.14100  0.21130  0.4107  0.2216  0.2060  0.07115  \n",
      "564  23.690  38.25  155.00  1731.0  0.11660  0.19220  0.3215  0.1628  0.2572  0.06637  \n",
      "565  18.980  34.12  126.70  1124.0  0.11390  0.30940  0.3403  0.1418  0.2218  0.07820  \n",
      "566  25.740  39.42  184.60  1821.0  0.16500  0.86810  0.9387  0.2650  0.4087  0.12400  \n",
      "567   9.456  30.37   59.16   268.6  0.08996  0.06444  0.0000  0.0000  0.2871  0.07039  \n",
      "\n",
      "[568 rows x 31 columns]\n",
      "y :      M\n",
      "0    M\n",
      "1    M\n",
      "2    M\n",
      "3    M\n",
      "4    M\n",
      "..  ..\n",
      "563  M\n",
      "564  M\n",
      "565  M\n",
      "566  M\n",
      "567  B\n",
      "\n",
      "[568 rows x 1 columns]\n",
      "X_train  (454, 31)\n",
      "X_test  (114, 31)\n",
      "y_train  (454, 1)\n",
      "y_test  (114, 1)\n"
     ]
    }
   ],
   "source": [
    "# Projet 2. Question 1\n",
    "\n",
    "# import des librairies\n",
    "from sklearn.model_selection import train_test_split\n",
    "print(df_bc_data)\n",
    "X=df_bc_data.drop(columns={\"M\"})\n",
    "print(\"X: \",X)\n",
    "y=df_bc_data.iloc[:,1:2]\n",
    "print(\"y :\", y)\n",
    "\n",
    "# Split du jeu de données\n",
    "X_train, X_test, y_train, y_test = train_test_split(X,y, test_size=0.2, random_state=1, shuffle=False, stratify=None)\n",
    "print(\"X_train \", X_train.shape)\n",
    "print(\"X_test \", X_test.shape)\n",
    "print(\"y_train \", y_train.shape)\n",
    "print(\"y_test \", y_test.shape)"
   ]
  },
  {
   "cell_type": "code",
   "execution_count": 116,
   "metadata": {},
   "outputs": [
    {
     "name": "stdout",
     "output_type": "stream",
     "text": [
      "     M\n",
      "0    1\n",
      "1    1\n",
      "2    1\n",
      "3    1\n",
      "4    1\n",
      "..  ..\n",
      "449  0\n",
      "450  1\n",
      "451  0\n",
      "452  0\n",
      "453  0\n",
      "\n",
      "[454 rows x 1 columns]\n"
     ]
    }
   ],
   "source": [
    "# Remplacement des valeurs de y_train par 1 ou 0\n",
    "y_train.replace({\"M\": 1, \"B\": 0},inplace=True)\n",
    "print(y_train)"
   ]
  },
  {
   "cell_type": "code",
   "execution_count": 118,
   "metadata": {},
   "outputs": [],
   "source": [
    "import sklearn\n",
    "from sklearn.tree import plot_tree\n",
    "#from sklearn.tree import tree\n",
    "from sklearn.tree import DecisionTreeClassifier\n",
    "\n",
    "dt = DecisionTreeClassifier(criterion=\"gini\",splitter=\"best\",max_depth=6)\n",
    "dt = dt.fit(X_train,y_train)"
   ]
  },
  {
   "cell_type": "code",
   "execution_count": 119,
   "metadata": {},
   "outputs": [
    {
     "ename": "KeyError",
     "evalue": "23",
     "output_type": "error",
     "traceback": [
      "\u001b[1;31m---------------------------------------------------------------------------\u001b[0m",
      "\u001b[1;31mKeyError\u001b[0m                                  Traceback (most recent call last)",
      "File \u001b[1;32mc:\\Users\\Robin\\AppData\\Local\\Programs\\Python\\Python310\\lib\\site-packages\\pandas\\core\\indexes\\base.py:3802\u001b[0m, in \u001b[0;36mIndex.get_loc\u001b[1;34m(self, key, method, tolerance)\u001b[0m\n\u001b[0;32m   3801\u001b[0m \u001b[39mtry\u001b[39;00m:\n\u001b[1;32m-> 3802\u001b[0m     \u001b[39mreturn\u001b[39;00m \u001b[39mself\u001b[39;49m\u001b[39m.\u001b[39;49m_engine\u001b[39m.\u001b[39;49mget_loc(casted_key)\n\u001b[0;32m   3803\u001b[0m \u001b[39mexcept\u001b[39;00m \u001b[39mKeyError\u001b[39;00m \u001b[39mas\u001b[39;00m err:\n",
      "File \u001b[1;32mc:\\Users\\Robin\\AppData\\Local\\Programs\\Python\\Python310\\lib\\site-packages\\pandas\\_libs\\index.pyx:138\u001b[0m, in \u001b[0;36mpandas._libs.index.IndexEngine.get_loc\u001b[1;34m()\u001b[0m\n",
      "File \u001b[1;32mc:\\Users\\Robin\\AppData\\Local\\Programs\\Python\\Python310\\lib\\site-packages\\pandas\\_libs\\index.pyx:165\u001b[0m, in \u001b[0;36mpandas._libs.index.IndexEngine.get_loc\u001b[1;34m()\u001b[0m\n",
      "File \u001b[1;32mpandas\\_libs\\hashtable_class_helper.pxi:5745\u001b[0m, in \u001b[0;36mpandas._libs.hashtable.PyObjectHashTable.get_item\u001b[1;34m()\u001b[0m\n",
      "File \u001b[1;32mpandas\\_libs\\hashtable_class_helper.pxi:5753\u001b[0m, in \u001b[0;36mpandas._libs.hashtable.PyObjectHashTable.get_item\u001b[1;34m()\u001b[0m\n",
      "\u001b[1;31mKeyError\u001b[0m: 23",
      "\nThe above exception was the direct cause of the following exception:\n",
      "\u001b[1;31mKeyError\u001b[0m                                  Traceback (most recent call last)",
      "\u001b[1;32mc:\\Users\\Robin\\hello\\Morana_DUDA\\DU_Data\\ML Supervise Projet 2.ipynb Cell 7\u001b[0m line \u001b[0;36m3\n\u001b[0;32m      <a href='vscode-notebook-cell:/c%3A/Users/Robin/hello/Morana_DUDA/DU_Data/ML%20Supervise%20Projet%202.ipynb#X23sZmlsZQ%3D%3D?line=0'>1</a>\u001b[0m \u001b[39m# Affichage de l'Arbre\u001b[39;00m\n\u001b[0;32m      <a href='vscode-notebook-cell:/c%3A/Users/Robin/hello/Morana_DUDA/DU_Data/ML%20Supervise%20Projet%202.ipynb#X23sZmlsZQ%3D%3D?line=1'>2</a>\u001b[0m fig \u001b[39m=\u001b[39m plt\u001b[39m.\u001b[39mfigure()\n\u001b[1;32m----> <a href='vscode-notebook-cell:/c%3A/Users/Robin/hello/Morana_DUDA/DU_Data/ML%20Supervise%20Projet%202.ipynb#X23sZmlsZQ%3D%3D?line=2'>3</a>\u001b[0m plot_tree(dt,filled\u001b[39m=\u001b[39;49m\u001b[39mTrue\u001b[39;49;00m, feature_names\u001b[39m=\u001b[39;49mX_train,class_names\u001b[39m=\u001b[39;49my_train)\n\u001b[0;32m      <a href='vscode-notebook-cell:/c%3A/Users/Robin/hello/Morana_DUDA/DU_Data/ML%20Supervise%20Projet%202.ipynb#X23sZmlsZQ%3D%3D?line=3'>4</a>\u001b[0m plt\u001b[39m.\u001b[39mtitle(\u001b[39m\"\u001b[39m\u001b[39mArbre de profondeur 1 sur les données Pingouin\u001b[39m\u001b[39m\"\u001b[39m)\n\u001b[0;32m      <a href='vscode-notebook-cell:/c%3A/Users/Robin/hello/Morana_DUDA/DU_Data/ML%20Supervise%20Projet%202.ipynb#X23sZmlsZQ%3D%3D?line=4'>5</a>\u001b[0m plt\u001b[39m.\u001b[39mshow()\n",
      "File \u001b[1;32mc:\\Users\\Robin\\AppData\\Local\\Programs\\Python\\Python310\\lib\\site-packages\\sklearn\\utils\\_param_validation.py:214\u001b[0m, in \u001b[0;36mvalidate_params.<locals>.decorator.<locals>.wrapper\u001b[1;34m(*args, **kwargs)\u001b[0m\n\u001b[0;32m    208\u001b[0m \u001b[39mtry\u001b[39;00m:\n\u001b[0;32m    209\u001b[0m     \u001b[39mwith\u001b[39;00m config_context(\n\u001b[0;32m    210\u001b[0m         skip_parameter_validation\u001b[39m=\u001b[39m(\n\u001b[0;32m    211\u001b[0m             prefer_skip_nested_validation \u001b[39mor\u001b[39;00m global_skip_validation\n\u001b[0;32m    212\u001b[0m         )\n\u001b[0;32m    213\u001b[0m     ):\n\u001b[1;32m--> 214\u001b[0m         \u001b[39mreturn\u001b[39;00m func(\u001b[39m*\u001b[39margs, \u001b[39m*\u001b[39m\u001b[39m*\u001b[39mkwargs)\n\u001b[0;32m    215\u001b[0m \u001b[39mexcept\u001b[39;00m InvalidParameterError \u001b[39mas\u001b[39;00m e:\n\u001b[0;32m    216\u001b[0m     \u001b[39m# When the function is just a wrapper around an estimator, we allow\u001b[39;00m\n\u001b[0;32m    217\u001b[0m     \u001b[39m# the function to delegate validation to the estimator, but we replace\u001b[39;00m\n\u001b[0;32m    218\u001b[0m     \u001b[39m# the name of the estimator by the name of the function in the error\u001b[39;00m\n\u001b[0;32m    219\u001b[0m     \u001b[39m# message to avoid confusion.\u001b[39;00m\n\u001b[0;32m    220\u001b[0m     msg \u001b[39m=\u001b[39m re\u001b[39m.\u001b[39msub(\n\u001b[0;32m    221\u001b[0m         \u001b[39mr\u001b[39m\u001b[39m\"\u001b[39m\u001b[39mparameter of \u001b[39m\u001b[39m\\\u001b[39m\u001b[39mw+ must be\u001b[39m\u001b[39m\"\u001b[39m,\n\u001b[0;32m    222\u001b[0m         \u001b[39mf\u001b[39m\u001b[39m\"\u001b[39m\u001b[39mparameter of \u001b[39m\u001b[39m{\u001b[39;00mfunc\u001b[39m.\u001b[39m\u001b[39m__qualname__\u001b[39m\u001b[39m}\u001b[39;00m\u001b[39m must be\u001b[39m\u001b[39m\"\u001b[39m,\n\u001b[0;32m    223\u001b[0m         \u001b[39mstr\u001b[39m(e),\n\u001b[0;32m    224\u001b[0m     )\n",
      "File \u001b[1;32mc:\\Users\\Robin\\AppData\\Local\\Programs\\Python\\Python310\\lib\\site-packages\\sklearn\\tree\\_export.py:211\u001b[0m, in \u001b[0;36mplot_tree\u001b[1;34m(decision_tree, max_depth, feature_names, class_names, label, filled, impurity, node_ids, proportion, rounded, precision, ax, fontsize)\u001b[0m\n\u001b[0;32m    196\u001b[0m check_is_fitted(decision_tree)\n\u001b[0;32m    198\u001b[0m exporter \u001b[39m=\u001b[39m _MPLTreeExporter(\n\u001b[0;32m    199\u001b[0m     max_depth\u001b[39m=\u001b[39mmax_depth,\n\u001b[0;32m    200\u001b[0m     feature_names\u001b[39m=\u001b[39mfeature_names,\n\u001b[1;32m   (...)\u001b[0m\n\u001b[0;32m    209\u001b[0m     fontsize\u001b[39m=\u001b[39mfontsize,\n\u001b[0;32m    210\u001b[0m )\n\u001b[1;32m--> 211\u001b[0m \u001b[39mreturn\u001b[39;00m exporter\u001b[39m.\u001b[39;49mexport(decision_tree, ax\u001b[39m=\u001b[39;49max)\n",
      "File \u001b[1;32mc:\\Users\\Robin\\AppData\\Local\\Programs\\Python\\Python310\\lib\\site-packages\\sklearn\\tree\\_export.py:643\u001b[0m, in \u001b[0;36m_MPLTreeExporter.export\u001b[1;34m(self, decision_tree, ax)\u001b[0m\n\u001b[0;32m    641\u001b[0m ax\u001b[39m.\u001b[39mclear()\n\u001b[0;32m    642\u001b[0m ax\u001b[39m.\u001b[39mset_axis_off()\n\u001b[1;32m--> 643\u001b[0m my_tree \u001b[39m=\u001b[39m \u001b[39mself\u001b[39;49m\u001b[39m.\u001b[39;49m_make_tree(\u001b[39m0\u001b[39;49m, decision_tree\u001b[39m.\u001b[39;49mtree_, decision_tree\u001b[39m.\u001b[39;49mcriterion)\n\u001b[0;32m    644\u001b[0m draw_tree \u001b[39m=\u001b[39m buchheim(my_tree)\n\u001b[0;32m    646\u001b[0m \u001b[39m# important to make sure we're still\u001b[39;00m\n\u001b[0;32m    647\u001b[0m \u001b[39m# inside the axis after drawing the box\u001b[39;00m\n\u001b[0;32m    648\u001b[0m \u001b[39m# this makes sense because the width of a box\u001b[39;00m\n\u001b[0;32m    649\u001b[0m \u001b[39m# is about the same as the distance between boxes\u001b[39;00m\n",
      "File \u001b[1;32mc:\\Users\\Robin\\AppData\\Local\\Programs\\Python\\Python310\\lib\\site-packages\\sklearn\\tree\\_export.py:619\u001b[0m, in \u001b[0;36m_MPLTreeExporter._make_tree\u001b[1;34m(self, node_id, et, criterion, depth)\u001b[0m\n\u001b[0;32m    616\u001b[0m \u001b[39mdef\u001b[39;00m \u001b[39m_make_tree\u001b[39m(\u001b[39mself\u001b[39m, node_id, et, criterion, depth\u001b[39m=\u001b[39m\u001b[39m0\u001b[39m):\n\u001b[0;32m    617\u001b[0m     \u001b[39m# traverses _tree.Tree recursively, builds intermediate\u001b[39;00m\n\u001b[0;32m    618\u001b[0m     \u001b[39m# \"_reingold_tilford.Tree\" object\u001b[39;00m\n\u001b[1;32m--> 619\u001b[0m     name \u001b[39m=\u001b[39m \u001b[39mself\u001b[39;49m\u001b[39m.\u001b[39;49mnode_to_str(et, node_id, criterion\u001b[39m=\u001b[39;49mcriterion)\n\u001b[0;32m    620\u001b[0m     \u001b[39mif\u001b[39;00m et\u001b[39m.\u001b[39mchildren_left[node_id] \u001b[39m!=\u001b[39m _tree\u001b[39m.\u001b[39mTREE_LEAF \u001b[39mand\u001b[39;00m (\n\u001b[0;32m    621\u001b[0m         \u001b[39mself\u001b[39m\u001b[39m.\u001b[39mmax_depth \u001b[39mis\u001b[39;00m \u001b[39mNone\u001b[39;00m \u001b[39mor\u001b[39;00m depth \u001b[39m<\u001b[39m\u001b[39m=\u001b[39m \u001b[39mself\u001b[39m\u001b[39m.\u001b[39mmax_depth\n\u001b[0;32m    622\u001b[0m     ):\n\u001b[0;32m    623\u001b[0m         children \u001b[39m=\u001b[39m [\n\u001b[0;32m    624\u001b[0m             \u001b[39mself\u001b[39m\u001b[39m.\u001b[39m_make_tree(\n\u001b[0;32m    625\u001b[0m                 et\u001b[39m.\u001b[39mchildren_left[node_id], et, criterion, depth\u001b[39m=\u001b[39mdepth \u001b[39m+\u001b[39m \u001b[39m1\u001b[39m\n\u001b[1;32m   (...)\u001b[0m\n\u001b[0;32m    629\u001b[0m             ),\n\u001b[0;32m    630\u001b[0m         ]\n",
      "File \u001b[1;32mc:\\Users\\Robin\\AppData\\Local\\Programs\\Python\\Python310\\lib\\site-packages\\sklearn\\tree\\_export.py:310\u001b[0m, in \u001b[0;36m_BaseTreeExporter.node_to_str\u001b[1;34m(self, tree, node_id, criterion)\u001b[0m\n\u001b[0;32m    307\u001b[0m \u001b[39mif\u001b[39;00m tree\u001b[39m.\u001b[39mchildren_left[node_id] \u001b[39m!=\u001b[39m _tree\u001b[39m.\u001b[39mTREE_LEAF:\n\u001b[0;32m    308\u001b[0m     \u001b[39m# Always write node decision criteria, except for leaves\u001b[39;00m\n\u001b[0;32m    309\u001b[0m     \u001b[39mif\u001b[39;00m \u001b[39mself\u001b[39m\u001b[39m.\u001b[39mfeature_names \u001b[39mis\u001b[39;00m \u001b[39mnot\u001b[39;00m \u001b[39mNone\u001b[39;00m:\n\u001b[1;32m--> 310\u001b[0m         feature \u001b[39m=\u001b[39m \u001b[39mself\u001b[39;49m\u001b[39m.\u001b[39;49mfeature_names[tree\u001b[39m.\u001b[39;49mfeature[node_id]]\n\u001b[0;32m    311\u001b[0m     \u001b[39melse\u001b[39;00m:\n\u001b[0;32m    312\u001b[0m         feature \u001b[39m=\u001b[39m \u001b[39m\"\u001b[39m\u001b[39mx\u001b[39m\u001b[39m%s\u001b[39;00m\u001b[39m%s\u001b[39;00m\u001b[39m%s\u001b[39;00m\u001b[39m\"\u001b[39m \u001b[39m%\u001b[39m (\n\u001b[0;32m    313\u001b[0m             characters[\u001b[39m1\u001b[39m],\n\u001b[0;32m    314\u001b[0m             tree\u001b[39m.\u001b[39mfeature[node_id],\n\u001b[0;32m    315\u001b[0m             characters[\u001b[39m2\u001b[39m],\n\u001b[0;32m    316\u001b[0m         )\n",
      "File \u001b[1;32mc:\\Users\\Robin\\AppData\\Local\\Programs\\Python\\Python310\\lib\\site-packages\\pandas\\core\\frame.py:3807\u001b[0m, in \u001b[0;36mDataFrame.__getitem__\u001b[1;34m(self, key)\u001b[0m\n\u001b[0;32m   3805\u001b[0m \u001b[39mif\u001b[39;00m \u001b[39mself\u001b[39m\u001b[39m.\u001b[39mcolumns\u001b[39m.\u001b[39mnlevels \u001b[39m>\u001b[39m \u001b[39m1\u001b[39m:\n\u001b[0;32m   3806\u001b[0m     \u001b[39mreturn\u001b[39;00m \u001b[39mself\u001b[39m\u001b[39m.\u001b[39m_getitem_multilevel(key)\n\u001b[1;32m-> 3807\u001b[0m indexer \u001b[39m=\u001b[39m \u001b[39mself\u001b[39;49m\u001b[39m.\u001b[39;49mcolumns\u001b[39m.\u001b[39;49mget_loc(key)\n\u001b[0;32m   3808\u001b[0m \u001b[39mif\u001b[39;00m is_integer(indexer):\n\u001b[0;32m   3809\u001b[0m     indexer \u001b[39m=\u001b[39m [indexer]\n",
      "File \u001b[1;32mc:\\Users\\Robin\\AppData\\Local\\Programs\\Python\\Python310\\lib\\site-packages\\pandas\\core\\indexes\\base.py:3804\u001b[0m, in \u001b[0;36mIndex.get_loc\u001b[1;34m(self, key, method, tolerance)\u001b[0m\n\u001b[0;32m   3802\u001b[0m     \u001b[39mreturn\u001b[39;00m \u001b[39mself\u001b[39m\u001b[39m.\u001b[39m_engine\u001b[39m.\u001b[39mget_loc(casted_key)\n\u001b[0;32m   3803\u001b[0m \u001b[39mexcept\u001b[39;00m \u001b[39mKeyError\u001b[39;00m \u001b[39mas\u001b[39;00m err:\n\u001b[1;32m-> 3804\u001b[0m     \u001b[39mraise\u001b[39;00m \u001b[39mKeyError\u001b[39;00m(key) \u001b[39mfrom\u001b[39;00m \u001b[39merr\u001b[39;00m\n\u001b[0;32m   3805\u001b[0m \u001b[39mexcept\u001b[39;00m \u001b[39mTypeError\u001b[39;00m:\n\u001b[0;32m   3806\u001b[0m     \u001b[39m# If we have a listlike key, _check_indexing_error will raise\u001b[39;00m\n\u001b[0;32m   3807\u001b[0m     \u001b[39m#  InvalidIndexError. Otherwise we fall through and re-raise\u001b[39;00m\n\u001b[0;32m   3808\u001b[0m     \u001b[39m#  the TypeError.\u001b[39;00m\n\u001b[0;32m   3809\u001b[0m     \u001b[39mself\u001b[39m\u001b[39m.\u001b[39m_check_indexing_error(key)\n",
      "\u001b[1;31mKeyError\u001b[0m: 23"
     ]
    },
    {
     "data": {
      "image/png": "[encoded data removed]",
      "text/plain": [
       "<Figure size 640x480 with 1 Axes>"
      ]
     },
     "metadata": {},
     "output_type": "display_data"
    }
   ],
   "source": [
    "# Affichage de l'Arbre\n",
    "fig = plt.figure()\n",
    "plot_tree(dt,filled=True, feature_names=X_train,class_names=y_train)\n",
    "plt.title(\"Arbre de profondeur 1 sur les données Pingouin\")\n",
    "plt.show()"
   ]
  },
  {
   "cell_type": "code",
   "execution_count": 88,
   "metadata": {},
   "outputs": [
    {
     "name": "stdout",
     "output_type": "stream",
     "text": [
      "(array([[0, 1],\n",
      "       [2, 3],\n",
      "       [4, 5],\n",
      "       [6, 7],\n",
      "       [8, 9]]), range(0, 5))\n"
     ]
    }
   ],
   "source": [
    "# Définition des tableaux de données X et Y\n",
    "#X = df_pingouin[[\"culmen_length_mm\",\"culmen_depth_mm\"]]\n",
    "#Y = df_pingouin[\"species\"] # Target names\n",
    "#print(len(X))\n",
    "#print(len(Y))\n",
    "# Rename pour être plus parlant\n",
    "#features_values=X.loc[1:,:].values\n",
    "#features_names=X.columns.values\n",
    "#target_names = Y.loc[1:].values\n",
    "#print(len(features_values))\n",
    "#print(target_names)\n",
    "# Entrainement d'un arbre de profondeur 1\n",
    "#clf = DecisionTreeClassifier(criterion=\"gini\",splitter=\"best\",max_depth=1)\n",
    "#clf = clf.fit(features_values,target_names)\n",
    "\n",
    "# Affichage de l'Arbre\n",
    "#fig = plt.figure()\n",
    "#plot_tree(clf,filled=True, feature_names=features_names,class_names=[\"Adelie\",\"Chinstrap\",\"Gentoo\"])\n",
    "#plt.title(\"Arbre de profondeur 1 sur les données Pingouin\")\n",
    "#plt.show()\n",
    "\n"
   ]
  },
  {
   "cell_type": "code",
   "execution_count": null,
   "metadata": {},
   "outputs": [],
   "source": []
  }
 ],
 "metadata": {
  "kernelspec": {
   "display_name": "base",
   "language": "python",
   "name": "python3"
  },
  "language_info": {
   "codemirror_mode": {
    "name": "ipython",
    "version": 3
   },
   "file_extension": ".py",
   "mimetype": "text/x-python",
   "name": "python",
   "nbconvert_exporter": "python",
   "pygments_lexer": "ipython3",
   "version": "3.10.4"
  },
  "orig_nbformat": 4
 },
 "nbformat": 4,
 "nbformat_minor": 2
}

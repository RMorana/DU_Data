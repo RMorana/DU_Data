{
 "cells": [
  {
   "attachments": {},
   "cell_type": "markdown",
   "metadata": {},
   "source": [
    "<H1> Projet 1 - SQL"
   ]
  },
  {
   "attachments": {},
   "cell_type": "markdown",
   "metadata": {},
   "source": [
    "Cours SQL\n",
    "\n",
    "Je n'ai pas suivi le cours \"Introduction to SQL\" mais j'ai déposé sur le Teams la preuve de l'obtention de l'examen du cours SQL au CNAM (cours NFA008). J'ai suivi le cours \"Intermediate SQL\", la preuve est jointe également sur le Teams.\n",
    "\n",
    "Analyzing Business\n",
    "\n"
   ]
  },
  {
   "attachments": {},
   "cell_type": "markdown",
   "metadata": {},
   "source": [
    "\"What and Where are the World's Oldest Businesses\"\n",
    "En cours"
   ]
  },
  {
   "attachments": {},
   "cell_type": "markdown",
   "metadata": {},
   "source": [
    "Exercices du cours \"Intermediate SQL\"\n",
    "\n",
    "1. Quelle est la durée du plus court film produit entre 1942 et 1968 inclus ?\n",
    "\n",
    "SELECT duration\n",
    "FROM cinema.films\n",
    "WHERE release_year BETWEEN 1942 AND 1968\n",
    "ORDER BY duration ASC\n",
    "LIMIT 5;\n",
    "\n",
    "Réponse : 68\n",
    "\n",
    "2. Quelle est la durée moyenne des films réalisés entre 1954 et 1967 inclus ?\n",
    "\n",
    "SELECT ROUND(AVG(duration),0) AS avg_duration\n",
    "FROM cinema.films\n",
    "WHERE release_year BETWEEN 1954 AND 1967;\n",
    "\n",
    "Réponse : 133 minutes\n",
    "\n",
    "3. "
   ]
  }
 ],
 "metadata": {
  "kernelspec": {
   "display_name": "base",
   "language": "python",
   "name": "python3"
  },
  "language_info": {
   "name": "python",
   "version": "3.10.9"
  },
  "orig_nbformat": 4
 },
 "nbformat": 4,
 "nbformat_minor": 2
}

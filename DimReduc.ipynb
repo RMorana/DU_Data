{
 "cells": [
  {
   "cell_type": "code",
   "execution_count": 1,
   "metadata": {},
   "outputs": [
    {
     "name": "stdout",
     "output_type": "stream",
     "text": [
      "/Library/Fonts/GaramondPremrPro.otf\n"
     ]
    },
    {
     "data": {
      "text/plain": [
       "'/Library/Fonts/GaramondPremrPro.otf'"
      ]
     },
     "execution_count": 1,
     "metadata": {},
     "output_type": "execute_result"
    }
   ],
   "source": [
    "# import des modules nécessaires\n",
    "import pandas as pd\n",
    "import matplotlib\n",
    "import matplotlib.pyplot as plt\n",
    "import seaborn as sns\n",
    "import missingno as msno\n",
    "from distinctipy import distinctipy\n",
    "from matplotlib.font_manager import FontProperties\n",
    "from matplotlib import rc\n",
    "import numpy as np\n",
    "import plotly.graph_objects as go\n",
    "from plotly.subplots import make_subplots\n",
    "import ipywidgets as widgets\n",
    "from IPython.display import clear_output, display\n",
    "from scipy.stats import chi2_contingency as chi2_contingency\n",
    "import statsmodels.formula.api as statsapi\n",
    "import statsmodels as stats\n",
    "from statsmodels.formula.api import ols\n",
    "from statsmodels.stats.anova import anova_lm\n",
    "import xlrd as xlrd\n",
    "from matplotlib import font_manager # for mac users\n",
    "import platform\n",
    "import os\n",
    "\n",
    "# Modifier les paramètres d'affichage de la sortie des commandes dans Jupyter\n",
    "pd.set_option('display.max_rows', 100)\n",
    "pd.set_option('display.max_columns', 50)\n",
    "pd.set_option('display.width', 100)\n",
    "\n",
    "# Pour lister les polices présentes\n",
    "#fpaths = matplotlib.font_manager.findSystemFonts()\n",
    "#for i in fpaths:\n",
    "#    f = matplotlib.font_manager.get_font(i)\n",
    "#    print(f.family_name)\n",
    "# import de la police Garamond\n",
    "\n",
    "system = platform.system()\n",
    "\n",
    "if system == 'Darwin':  # macOS\n",
    "  font_path = '/Library/Fonts/GaramondPremrPro.otf'\n",
    "elif system == 'Windows':\n",
    "  font_path = 'C:/Windows/Fonts/GARA.TTF'\n",
    "else:  #  unix\n",
    "  font_path = 'GARA.TTF'\n",
    "print(font_path)\n",
    "\n",
    "garamond_font = FontProperties(fname=\"/Library/Fonts/GaramondPremrPro.otf\",size=14)\n",
    "#    timesnewroman_font = FontProperties(fname=\"C:/Windows/Fonts/TIMES.TTF\",size=14)\n",
    "\n",
    "font_manager.findSystemFonts(fontpaths=font_path, fontext=\"ttf\")\n",
    "font_manager.findfont(\"Garamond Premier Pro\") "
   ]
  },
  {
   "cell_type": "code",
   "execution_count": null,
   "metadata": {},
   "outputs": [],
   "source": []
  }
 ],
 "metadata": {
  "kernelspec": {
   "display_name": "base",
   "language": "python",
   "name": "python3"
  },
  "language_info": {
   "codemirror_mode": {
    "name": "ipython",
    "version": 3
   },
   "file_extension": ".py",
   "mimetype": "text/x-python",
   "name": "python",
   "nbconvert_exporter": "python",
   "pygments_lexer": "ipython3",
   "version": "3.10.9"
  },
  "orig_nbformat": 4
 },
 "nbformat": 4,
 "nbformat_minor": 2
}

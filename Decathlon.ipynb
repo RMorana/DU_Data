{
 "cells": [
  {
   "cell_type": "code",
   "execution_count": 1,
   "metadata": {},
   "outputs": [
    {
     "name": "stdout",
     "output_type": "stream",
     "text": [
      "/Library/Fonts/GaramondPremrPro.otf\n"
     ]
    }
   ],
   "source": [
    "# import des modules nécessaires\n",
    "import pandas as pd\n",
    "import matplotlib\n",
    "import matplotlib.pyplot as plt\n",
    "import seaborn as sns\n",
    "import missingno as msno\n",
    "import matplotlib.patches as mpatches\n",
    "from distinctipy import distinctipy\n",
    "from matplotlib.font_manager import FontProperties\n",
    "from matplotlib import rc\n",
    "import numpy as np\n",
    "import plotly.graph_objects as go\n",
    "from plotly.subplots import make_subplots\n",
    "import ipywidgets as widgets\n",
    "from IPython.display import clear_output, display\n",
    "from scipy.stats import chi2_contingency as chi2_contingency\n",
    "import statsmodels.formula.api as statsapi\n",
    "import statsmodels as stats\n",
    "from statsmodels.formula.api import ols\n",
    "from statsmodels.stats.anova import anova_lm\n",
    "import xlrd as xlrd\n",
    "from matplotlib import font_manager # for mac users\n",
    "import platform\n",
    "import os\n",
    "from sklearn.decomposition import PCA\n",
    "\n",
    "# Modifier les paramètres d'affichage de la sortie des commandes dans Jupyter\n",
    "pd.set_option('display.max_rows', 100)\n",
    "pd.set_option('display.max_columns', 50)\n",
    "pd.set_option('display.width', 100)\n",
    "\n",
    "# Pour lister les polices présentes\n",
    "#fpaths = matplotlib.font_manager.findSystemFonts()\n",
    "#for i in fpaths:\n",
    "#    f = matplotlib.font_manager.get_font(i)\n",
    "#    print(f.family_name)\n",
    "# import de la police Garamond\n",
    "\n",
    "system = platform.system()\n",
    "\n",
    "if system == 'Darwin':  # macOS\n",
    "  font_path = '/Library/Fonts/GaramondPremrPro.otf'\n",
    "elif system == 'Windows':\n",
    "  font_path = 'C:/Windows/Fonts/GARA.TTF'\n",
    "else:  #  unix\n",
    "  font_path = 'GARA.TTF'\n",
    "print(font_path)\n",
    "\n",
    "garamond_font = FontProperties(fname=\"/Library/Fonts/GaramondPremrPro.otf\",size=14)\n",
    "#    timesnewroman_font = FontProperties(fname=\"C:/Windows/Fonts/TIMES.TTF\",size=14)\n",
    "\n",
    "font_manager.findSystemFonts(fontpaths=font_path, fontext=\"ttf\")\n",
    "font_manager.findfont(\"Garamond Premier Pro\") \n",
    "\n",
    "# Définissez la police par défaut pour toute la figure\n",
    "matplotlib.rcParams['font.family'] = 'Garamond Premier Pro'"
   ]
  },
  {
   "cell_type": "code",
   "execution_count": 2,
   "metadata": {},
   "outputs": [
    {
     "name": "stdout",
     "output_type": "stream",
     "text": [
      "Liste des colonnes\n",
      "\n",
      " Index([';100m;Longueur;Poids;Hauteur;400m;110m H;Disque;Perche;Javelot;1500m;Classement;Points;Competition'], dtype='object')\n",
      "  ;100m;Longueur;Poids;Hauteur;400m;110m H;Disque;Perche;Javelot;1500m;Classement;Points;Competition\n",
      "0  Sebrle;10.85;7.84;16.36;2.12;48.36;14.05;48.72...                                                \n",
      "1  Clay;10.44;7.96;15.23;2.06;49.19;14.13;50.11;4...                                                \n",
      "2  Karpov;10.50;7.81;15.93;2.09;46.81;13.97;51.65...                                                \n",
      "3  Macey;10.89;7.47;15.73;2.15;48.97;14.56;48.34;...                                                \n",
      "4  Warners;10.62;7.74;14.48;1.97;47.97;14.01;43.7...                                                \n",
      "Shape des données DECATHLON:  (41, 1)\n"
     ]
    }
   ],
   "source": [
    "# Chargement des données DECATHLON et afficher la liste des disciplines\n",
    "df_decathlon = pd.read_csv(\"input/decathlon/decathlon.csv\",header=0,sep=\",\", low_memory=False)\n",
    "print(\"Liste des colonnes\\n\\n\", df_decathlon.columns)\n",
    "\n",
    "# Verif données\n",
    "print(df_decathlon.head(5))\n",
    "print(\"Shape des données DECATHLON: \", df_decathlon.shape)"
   ]
  }
 ],
 "metadata": {
  "kernelspec": {
   "display_name": "base",
   "language": "python",
   "name": "python3"
  },
  "language_info": {
   "codemirror_mode": {
    "name": "ipython",
    "version": 3
   },
   "file_extension": ".py",
   "mimetype": "text/x-python",
   "name": "python",
   "nbconvert_exporter": "python",
   "pygments_lexer": "ipython3",
   "version": "3.10.9"
  },
  "orig_nbformat": 4
 },
 "nbformat": 4,
 "nbformat_minor": 2
}
